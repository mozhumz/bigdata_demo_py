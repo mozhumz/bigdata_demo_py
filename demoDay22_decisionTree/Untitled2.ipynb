{
 "cells": [
  {
   "cell_type": "code",
   "execution_count": 1,
   "metadata": {},
   "outputs": [
    {
     "name": "stdout",
     "output_type": "stream",
     "text": [
      "start_time: 1597473903.89519\n",
      "priors (32434489, 4): order_id, product_id, add_to_cart_order, reordered\n",
      "orders (3421083, 7): order_id, user_id, eval_set, order_number, order_dow, order_hour_of_day, days_since_prior_order\n",
      "train (1384617, 4): order_id, product_id, add_to_cart_order, reordered\n",
      "computing product f\n"
     ]
    }
   ],
   "source": [
    "import pandas as pd\n",
    "import numpy as np\n",
    "import time\n",
    "#显示所有列\n",
    "pd.set_option('display.max_columns', None)\n",
    "start_time=time.time()\n",
    "print('start_time:',start_time)\n",
    "'''\n",
    "Load Data\n",
    "'''\n",
    "IDIR = 'G:\\\\bigdata\\\\badou\\\\00-data//'\n",
    "priors = pd.read_csv(IDIR + 'order_products__prior.csv', dtype={\n",
    "    'order_id': np.int32,\n",
    "    'product_id': np.uint16,\n",
    "    'add_to_cart_order': np.int16,\n",
    "    'reordered': np.int8})\n",
    "# 用户倒数第二天购买的商品\n",
    "train = pd.read_csv(IDIR + 'order_products__train.csv', dtype={\n",
    "    'order_id': np.int32,\n",
    "    'product_id': np.uint16,\n",
    "    'add_to_cart_order': np.int16,\n",
    "    'reordered': np.int8})\n",
    "orders = pd.read_csv(IDIR + 'orders.csv', dtype={\n",
    "    'order_id': np.int32,\n",
    "    'user_id': np.int32,\n",
    "    'eval_set': 'object',\n",
    "    'order_number': np.int16,\n",
    "    'order_dow': np.int8,\n",
    "    'order_hour_of_day': np.int8,\n",
    "    'days_since_prior_order': np.float32})\n",
    "products = pd.read_csv(IDIR + 'products.csv', dtype={\n",
    "    'product_id': np.uint16,\n",
    "    'order_id': np.int32,\n",
    "    'aisle_id': np.uint8,\n",
    "    'department_id': np.uint8},\n",
    "                       usecols=['product_id', 'aisle_id', 'department_id'])\n",
    "\n",
    "print('priors {}: {}'.format(priors.shape, ', '.join(priors.columns)))\n",
    "print('orders {}: {}'.format(orders.shape, ', '.join(orders.columns)))\n",
    "print('train {}: {}'.format(train.shape, ', '.join(train.columns)))\n",
    "\n",
    "\n",
    "'''\n",
    "Feature Process\n",
    "'''\n",
    "# 1. product feature\n",
    "print('computing product f')\n",
    "prods = pd.DataFrame()\n",
    "# 产品销量\n",
    "prods['orders'] = priors.groupby(priors.product_id).size().astype(np.int32)\n",
    "# 产品再次购买量\n",
    "prods['reorders'] = priors['reordered'].groupby(priors.product_id).sum().astype(np.float32)\n",
    "# 产品再次购买比例\n",
    "prods['reorder_rate'] = (prods.reorders / prods.orders).astype(np.float32)\n",
    "products = products.join(prods, on='product_id')\n",
    "products.set_index('product_id', drop=False, inplace=True)\n",
    "del prods"
   ]
  },
  {
   "cell_type": "code",
   "execution_count": null,
   "metadata": {},
   "outputs": [],
   "source": [
    "orders.head()"
   ]
  }
 ],
 "metadata": {
  "kernelspec": {
   "display_name": "Python 3",
   "language": "python",
   "name": "python3"
  },
  "language_info": {
   "codemirror_mode": {
    "name": "ipython",
    "version": 3
   },
   "file_extension": ".py",
   "mimetype": "text/x-python",
   "name": "python",
   "nbconvert_exporter": "python",
   "pygments_lexer": "ipython3",
   "version": "3.7.4"
  }
 },
 "nbformat": 4,
 "nbformat_minor": 2
}
