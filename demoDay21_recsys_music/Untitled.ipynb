{
 "cells": [
  {
   "cell_type": "code",
   "execution_count": 8,
   "metadata": {},
   "outputs": [],
   "source": [
    "import pandas as pd\n",
    "import os\n",
    "# 存储一切对应代码的配置信息，主要的配置信息在这个文件中进行修改\n",
    "\n",
    "# 获取原始数据的方法\n",
    "data_path = 'G:\\\\idea_workspace\\\\bigdata\\\\bigdata_demo_py\\\\demoDay21_recsys_music\\\\data\\music_data'\n",
    "music_mid_data_path = \"data/music_mid_data\"\n",
    "\n",
    "def music_data(nrows=None):\n",
    "    music_meta = os.path.join(data_path,'music_meta')\n",
    "    df_music_meta = pd.read_csv(music_meta,\n",
    "                                sep='\\001',\n",
    "                                nrows=nrows,\n",
    "                                names=['item_id','item_name','desc','total_timelen','location','tags'],\n",
    "                                # Pandas只有在整个文件读取完了才能确定字段的dtype（字段的数据类型dType）这会很耗时间\n",
    "                                # 事先指定dtype，则会按照指定的dtype读取数据，从而解决警告：\n",
    "                                # DtypeWarning: Columns (3) have mixed types. Specify dtype option on import or set low_memory=False.\n",
    "                                dtype={'item_id':int,'item_name':str,'desc':str,'total_timelen':str,'tags':str})\n",
    "    df_music_meta = df_music_meta.fillna('-')\n",
    "    del df_music_meta['desc']\n",
    "    return df_music_meta\n",
    "\n"
   ]
  },
  {
   "cell_type": "code",
   "execution_count": 9,
   "metadata": {},
   "outputs": [
    {
     "name": "stdout",
     "output_type": "stream",
     "text": [
      "1\n"
     ]
    }
   ],
   "source": [
    "print(1)"
   ]
  },
  {
   "cell_type": "code",
   "execution_count": 13,
   "metadata": {},
   "outputs": [],
   "source": [
    "music_data0=music_data()"
   ]
  },
  {
   "cell_type": "code",
   "execution_count": 14,
   "metadata": {},
   "outputs": [],
   "source": [
    "music_data=music_data0"
   ]
  },
  {
   "cell_type": "code",
   "execution_count": 17,
   "metadata": {},
   "outputs": [
    {
     "data": {
      "text/plain": [
       "757833"
      ]
     },
     "execution_count": 17,
     "metadata": {},
     "output_type": "execute_result"
    }
   ],
   "source": [
    "len(music_data)"
   ]
  },
  {
   "cell_type": "code",
   "execution_count": 16,
   "metadata": {},
   "outputs": [],
   "source": [
    "del music_data0"
   ]
  },
  {
   "cell_type": "code",
   "execution_count": 19,
   "metadata": {},
   "outputs": [],
   "source": [
    "def user_watch(nrows=None):\n",
    "    user_watch_pref = os.path.join(data_path, 'user_watch_pref.sml')\n",
    "    return pd.read_csv(user_watch_pref,\n",
    "                       sep='\\001',\n",
    "                       nrows=nrows,\n",
    "                       names=['user_id', 'item_id', 'stay_seconds', 'hour'])\n",
    "\n",
    "user_watch=user_watch(100)"
   ]
  },
  {
   "cell_type": "code",
   "execution_count": 20,
   "metadata": {},
   "outputs": [],
   "source": [
    "def user_profile(nrows=None):\n",
    "    user_profile = os.path.join(data_path, 'user_profile.data')\n",
    "    return pd.read_csv(user_profile,\n",
    "                       sep=',',\n",
    "                       nrows=nrows,\n",
    "                       names=['user_id', 'gender', 'age', 'salary', 'province'])"
   ]
  },
  {
   "cell_type": "code",
   "execution_count": 21,
   "metadata": {},
   "outputs": [],
   "source": [
    "data=user_watch.merge(music_data,how='inner',on='item_id')"
   ]
  },
  {
   "cell_type": "code",
   "execution_count": 22,
   "metadata": {},
   "outputs": [
    {
     "data": {
      "text/plain": [
       "17"
      ]
     },
     "execution_count": 22,
     "metadata": {},
     "output_type": "execute_result"
    }
   ],
   "source": [
    "len(data)"
   ]
  },
  {
   "cell_type": "code",
   "execution_count": 23,
   "metadata": {},
   "outputs": [
    {
     "data": {
      "text/html": [
       "<div>\n",
       "<style scoped>\n",
       "    .dataframe tbody tr th:only-of-type {\n",
       "        vertical-align: middle;\n",
       "    }\n",
       "\n",
       "    .dataframe tbody tr th {\n",
       "        vertical-align: top;\n",
       "    }\n",
       "\n",
       "    .dataframe thead th {\n",
       "        text-align: right;\n",
       "    }\n",
       "</style>\n",
       "<table border=\"1\" class=\"dataframe\">\n",
       "  <thead>\n",
       "    <tr style=\"text-align: right;\">\n",
       "      <th></th>\n",
       "      <th>user_id</th>\n",
       "      <th>item_id</th>\n",
       "      <th>stay_seconds</th>\n",
       "      <th>hour</th>\n",
       "      <th>item_name</th>\n",
       "      <th>total_timelen</th>\n",
       "      <th>location</th>\n",
       "      <th>tags</th>\n",
       "    </tr>\n",
       "  </thead>\n",
       "  <tbody>\n",
       "    <tr>\n",
       "      <td>0</td>\n",
       "      <td>00213d17d2eba917e859d882aa89ee8e</td>\n",
       "      <td>1352509103</td>\n",
       "      <td>15</td>\n",
       "      <td>20</td>\n",
       "      <td>封神英雄榜＼片头曲 神仙道张馨予</td>\n",
       "      <td>150</td>\n",
       "      <td>-</td>\n",
       "      <td>倪萍回归央视,新卷珠帘,《刘欢版》,邓紫棋林宥嘉,快乐大本营,封神英雄榜</td>\n",
       "    </tr>\n",
       "    <tr>\n",
       "      <td>1</td>\n",
       "      <td>01d4ad980a492f39f2272dbc36ec9698</td>\n",
       "      <td>63509105</td>\n",
       "      <td>75</td>\n",
       "      <td>17</td>\n",
       "      <td>吉他弹唱教学《我真的受伤了》</td>\n",
       "      <td>744</td>\n",
       "      <td>-</td>\n",
       "      <td>我真的受伤了,弹唱,国内,吉他,教学</td>\n",
       "    </tr>\n",
       "    <tr>\n",
       "      <td>2</td>\n",
       "      <td>00e16789fa95549730b666911908f540</td>\n",
       "      <td>63509105</td>\n",
       "      <td>195</td>\n",
       "      <td>11</td>\n",
       "      <td>吉他弹唱教学《我真的受伤了》</td>\n",
       "      <td>744</td>\n",
       "      <td>-</td>\n",
       "      <td>我真的受伤了,弹唱,国内,吉他,教学</td>\n",
       "    </tr>\n",
       "    <tr>\n",
       "      <td>3</td>\n",
       "      <td>01359a19943d444cc75164d5133c3a65</td>\n",
       "      <td>1529509105</td>\n",
       "      <td>277</td>\n",
       "      <td>21</td>\n",
       "      <td>机械哥全新DUBSTEP舞蹈视频 BEAT IT 致敬MJ 超帅</td>\n",
       "      <td>221</td>\n",
       "      <td>-</td>\n",
       "      <td>致敬MJ,机械哥,BEAT,超帅,IT,舞蹈,DUBSTEP</td>\n",
       "    </tr>\n",
       "    <tr>\n",
       "      <td>4</td>\n",
       "      <td>01359a19943d444cc75164d5133c3a65</td>\n",
       "      <td>1529509105</td>\n",
       "      <td>276</td>\n",
       "      <td>21</td>\n",
       "      <td>机械哥全新DUBSTEP舞蹈视频 BEAT IT 致敬MJ 超帅</td>\n",
       "      <td>221</td>\n",
       "      <td>-</td>\n",
       "      <td>致敬MJ,机械哥,BEAT,超帅,IT,舞蹈,DUBSTEP</td>\n",
       "    </tr>\n",
       "  </tbody>\n",
       "</table>\n",
       "</div>"
      ],
      "text/plain": [
       "                            user_id     item_id  stay_seconds  hour  \\\n",
       "0  00213d17d2eba917e859d882aa89ee8e  1352509103            15    20   \n",
       "1  01d4ad980a492f39f2272dbc36ec9698    63509105            75    17   \n",
       "2  00e16789fa95549730b666911908f540    63509105           195    11   \n",
       "3  01359a19943d444cc75164d5133c3a65  1529509105           277    21   \n",
       "4  01359a19943d444cc75164d5133c3a65  1529509105           276    21   \n",
       "\n",
       "                          item_name total_timelen location  \\\n",
       "0                  封神英雄榜＼片头曲 神仙道张馨予           150        -   \n",
       "1                    吉他弹唱教学《我真的受伤了》           744        -   \n",
       "2                    吉他弹唱教学《我真的受伤了》           744        -   \n",
       "3  机械哥全新DUBSTEP舞蹈视频 BEAT IT 致敬MJ 超帅           221        -   \n",
       "4  机械哥全新DUBSTEP舞蹈视频 BEAT IT 致敬MJ 超帅           221        -   \n",
       "\n",
       "                                   tags  \n",
       "0  倪萍回归央视,新卷珠帘,《刘欢版》,邓紫棋林宥嘉,快乐大本营,封神英雄榜  \n",
       "1                    我真的受伤了,弹唱,国内,吉他,教学  \n",
       "2                    我真的受伤了,弹唱,国内,吉他,教学  \n",
       "3        致敬MJ,机械哥,BEAT,超帅,IT,舞蹈,DUBSTEP  \n",
       "4        致敬MJ,机械哥,BEAT,超帅,IT,舞蹈,DUBSTEP  "
      ]
     },
     "execution_count": 23,
     "metadata": {},
     "output_type": "execute_result"
    }
   ],
   "source": [
    "data.head()"
   ]
  },
  {
   "cell_type": "code",
   "execution_count": 24,
   "metadata": {},
   "outputs": [],
   "source": [
    "data['score']=data.apply(lambda x:float(x['stay_seconds']/float(x['total_timelen'])),axis=1)"
   ]
  },
  {
   "cell_type": "code",
   "execution_count": 25,
   "metadata": {},
   "outputs": [
    {
     "data": {
      "text/html": [
       "<div>\n",
       "<style scoped>\n",
       "    .dataframe tbody tr th:only-of-type {\n",
       "        vertical-align: middle;\n",
       "    }\n",
       "\n",
       "    .dataframe tbody tr th {\n",
       "        vertical-align: top;\n",
       "    }\n",
       "\n",
       "    .dataframe thead th {\n",
       "        text-align: right;\n",
       "    }\n",
       "</style>\n",
       "<table border=\"1\" class=\"dataframe\">\n",
       "  <thead>\n",
       "    <tr style=\"text-align: right;\">\n",
       "      <th></th>\n",
       "      <th>user_id</th>\n",
       "      <th>item_id</th>\n",
       "      <th>stay_seconds</th>\n",
       "      <th>hour</th>\n",
       "      <th>item_name</th>\n",
       "      <th>total_timelen</th>\n",
       "      <th>location</th>\n",
       "      <th>tags</th>\n",
       "      <th>score</th>\n",
       "    </tr>\n",
       "  </thead>\n",
       "  <tbody>\n",
       "    <tr>\n",
       "      <td>0</td>\n",
       "      <td>00213d17d2eba917e859d882aa89ee8e</td>\n",
       "      <td>1352509103</td>\n",
       "      <td>15</td>\n",
       "      <td>20</td>\n",
       "      <td>封神英雄榜＼片头曲 神仙道张馨予</td>\n",
       "      <td>150</td>\n",
       "      <td>-</td>\n",
       "      <td>倪萍回归央视,新卷珠帘,《刘欢版》,邓紫棋林宥嘉,快乐大本营,封神英雄榜</td>\n",
       "      <td>0.100000</td>\n",
       "    </tr>\n",
       "    <tr>\n",
       "      <td>1</td>\n",
       "      <td>01d4ad980a492f39f2272dbc36ec9698</td>\n",
       "      <td>63509105</td>\n",
       "      <td>75</td>\n",
       "      <td>17</td>\n",
       "      <td>吉他弹唱教学《我真的受伤了》</td>\n",
       "      <td>744</td>\n",
       "      <td>-</td>\n",
       "      <td>我真的受伤了,弹唱,国内,吉他,教学</td>\n",
       "      <td>0.100806</td>\n",
       "    </tr>\n",
       "    <tr>\n",
       "      <td>2</td>\n",
       "      <td>00e16789fa95549730b666911908f540</td>\n",
       "      <td>63509105</td>\n",
       "      <td>195</td>\n",
       "      <td>11</td>\n",
       "      <td>吉他弹唱教学《我真的受伤了》</td>\n",
       "      <td>744</td>\n",
       "      <td>-</td>\n",
       "      <td>我真的受伤了,弹唱,国内,吉他,教学</td>\n",
       "      <td>0.262097</td>\n",
       "    </tr>\n",
       "    <tr>\n",
       "      <td>3</td>\n",
       "      <td>01359a19943d444cc75164d5133c3a65</td>\n",
       "      <td>1529509105</td>\n",
       "      <td>277</td>\n",
       "      <td>21</td>\n",
       "      <td>机械哥全新DUBSTEP舞蹈视频 BEAT IT 致敬MJ 超帅</td>\n",
       "      <td>221</td>\n",
       "      <td>-</td>\n",
       "      <td>致敬MJ,机械哥,BEAT,超帅,IT,舞蹈,DUBSTEP</td>\n",
       "      <td>1.253394</td>\n",
       "    </tr>\n",
       "    <tr>\n",
       "      <td>4</td>\n",
       "      <td>01359a19943d444cc75164d5133c3a65</td>\n",
       "      <td>1529509105</td>\n",
       "      <td>276</td>\n",
       "      <td>21</td>\n",
       "      <td>机械哥全新DUBSTEP舞蹈视频 BEAT IT 致敬MJ 超帅</td>\n",
       "      <td>221</td>\n",
       "      <td>-</td>\n",
       "      <td>致敬MJ,机械哥,BEAT,超帅,IT,舞蹈,DUBSTEP</td>\n",
       "      <td>1.248869</td>\n",
       "    </tr>\n",
       "  </tbody>\n",
       "</table>\n",
       "</div>"
      ],
      "text/plain": [
       "                            user_id     item_id  stay_seconds  hour  \\\n",
       "0  00213d17d2eba917e859d882aa89ee8e  1352509103            15    20   \n",
       "1  01d4ad980a492f39f2272dbc36ec9698    63509105            75    17   \n",
       "2  00e16789fa95549730b666911908f540    63509105           195    11   \n",
       "3  01359a19943d444cc75164d5133c3a65  1529509105           277    21   \n",
       "4  01359a19943d444cc75164d5133c3a65  1529509105           276    21   \n",
       "\n",
       "                          item_name total_timelen location  \\\n",
       "0                  封神英雄榜＼片头曲 神仙道张馨予           150        -   \n",
       "1                    吉他弹唱教学《我真的受伤了》           744        -   \n",
       "2                    吉他弹唱教学《我真的受伤了》           744        -   \n",
       "3  机械哥全新DUBSTEP舞蹈视频 BEAT IT 致敬MJ 超帅           221        -   \n",
       "4  机械哥全新DUBSTEP舞蹈视频 BEAT IT 致敬MJ 超帅           221        -   \n",
       "\n",
       "                                   tags     score  \n",
       "0  倪萍回归央视,新卷珠帘,《刘欢版》,邓紫棋林宥嘉,快乐大本营,封神英雄榜  0.100000  \n",
       "1                    我真的受伤了,弹唱,国内,吉他,教学  0.100806  \n",
       "2                    我真的受伤了,弹唱,国内,吉他,教学  0.262097  \n",
       "3        致敬MJ,机械哥,BEAT,超帅,IT,舞蹈,DUBSTEP  1.253394  \n",
       "4        致敬MJ,机械哥,BEAT,超帅,IT,舞蹈,DUBSTEP  1.248869  "
      ]
     },
     "execution_count": 25,
     "metadata": {},
     "output_type": "execute_result"
    }
   ],
   "source": [
    "data.head()"
   ]
  },
  {
   "cell_type": "code",
   "execution_count": 26,
   "metadata": {},
   "outputs": [],
   "source": [
    " data=data[['user_id','item_id','score']]"
   ]
  },
  {
   "cell_type": "code",
   "execution_count": 27,
   "metadata": {},
   "outputs": [
    {
     "data": {
      "text/html": [
       "<div>\n",
       "<style scoped>\n",
       "    .dataframe tbody tr th:only-of-type {\n",
       "        vertical-align: middle;\n",
       "    }\n",
       "\n",
       "    .dataframe tbody tr th {\n",
       "        vertical-align: top;\n",
       "    }\n",
       "\n",
       "    .dataframe thead th {\n",
       "        text-align: right;\n",
       "    }\n",
       "</style>\n",
       "<table border=\"1\" class=\"dataframe\">\n",
       "  <thead>\n",
       "    <tr style=\"text-align: right;\">\n",
       "      <th></th>\n",
       "      <th>user_id</th>\n",
       "      <th>item_id</th>\n",
       "      <th>score</th>\n",
       "    </tr>\n",
       "  </thead>\n",
       "  <tbody>\n",
       "    <tr>\n",
       "      <td>0</td>\n",
       "      <td>00213d17d2eba917e859d882aa89ee8e</td>\n",
       "      <td>1352509103</td>\n",
       "      <td>0.100000</td>\n",
       "    </tr>\n",
       "    <tr>\n",
       "      <td>1</td>\n",
       "      <td>0029b6161dbb1b8721f5f6ad1d7594b6</td>\n",
       "      <td>1148909108</td>\n",
       "      <td>1.959016</td>\n",
       "    </tr>\n",
       "    <tr>\n",
       "      <td>2</td>\n",
       "      <td>0076a2dda04e1ee05ab2fb792297bf2b</td>\n",
       "      <td>1148909108</td>\n",
       "      <td>0.614754</td>\n",
       "    </tr>\n",
       "    <tr>\n",
       "      <td>3</td>\n",
       "      <td>0088a6fc0d8c03ec5b2513a984ce9a1e</td>\n",
       "      <td>1148909108</td>\n",
       "      <td>1.024590</td>\n",
       "    </tr>\n",
       "    <tr>\n",
       "      <td>4</td>\n",
       "      <td>00a43691f12565b801241743556417ab</td>\n",
       "      <td>839709106</td>\n",
       "      <td>0.054152</td>\n",
       "    </tr>\n",
       "    <tr>\n",
       "      <td>5</td>\n",
       "      <td>00e16789fa95549730b666911908f540</td>\n",
       "      <td>63509105</td>\n",
       "      <td>0.262097</td>\n",
       "    </tr>\n",
       "    <tr>\n",
       "      <td>6</td>\n",
       "      <td>00ed7cd778e08c7551731988e73e419e</td>\n",
       "      <td>463509109</td>\n",
       "      <td>1.299578</td>\n",
       "    </tr>\n",
       "    <tr>\n",
       "      <td>7</td>\n",
       "      <td>01359a19943d444cc75164d5133c3a65</td>\n",
       "      <td>1529509105</td>\n",
       "      <td>2.502262</td>\n",
       "    </tr>\n",
       "    <tr>\n",
       "      <td>8</td>\n",
       "      <td>014ad23bd34b4131e822c9cfba02ecce</td>\n",
       "      <td>1973309108</td>\n",
       "      <td>0.065217</td>\n",
       "    </tr>\n",
       "    <tr>\n",
       "      <td>9</td>\n",
       "      <td>0161e575a9992d5393ee578b45f3b1a7</td>\n",
       "      <td>963209107</td>\n",
       "      <td>1.216216</td>\n",
       "    </tr>\n",
       "    <tr>\n",
       "      <td>10</td>\n",
       "      <td>017d61f43565734e85ca6c652e6dd06f</td>\n",
       "      <td>463509109</td>\n",
       "      <td>1.303797</td>\n",
       "    </tr>\n",
       "    <tr>\n",
       "      <td>11</td>\n",
       "      <td>01903b3114c70a109aea3934297ea6ef</td>\n",
       "      <td>1148909108</td>\n",
       "      <td>0.614754</td>\n",
       "    </tr>\n",
       "    <tr>\n",
       "      <td>12</td>\n",
       "      <td>01c1ef0570a4d56b900a23b255dfc658</td>\n",
       "      <td>463509109</td>\n",
       "      <td>0.822785</td>\n",
       "    </tr>\n",
       "    <tr>\n",
       "      <td>13</td>\n",
       "      <td>01d4ad980a492f39f2272dbc36ec9698</td>\n",
       "      <td>63509105</td>\n",
       "      <td>0.100806</td>\n",
       "    </tr>\n",
       "    <tr>\n",
       "      <td>14</td>\n",
       "      <td>01eb724c80739c41018dc5db9db28ead</td>\n",
       "      <td>1678509106</td>\n",
       "      <td>0.283019</td>\n",
       "    </tr>\n",
       "    <tr>\n",
       "      <td>15</td>\n",
       "      <td>01ed205aebdc4b32bd156075668d541a</td>\n",
       "      <td>963209107</td>\n",
       "      <td>1.213213</td>\n",
       "    </tr>\n",
       "  </tbody>\n",
       "</table>\n",
       "</div>"
      ],
      "text/plain": [
       "                             user_id     item_id     score\n",
       "0   00213d17d2eba917e859d882aa89ee8e  1352509103  0.100000\n",
       "1   0029b6161dbb1b8721f5f6ad1d7594b6  1148909108  1.959016\n",
       "2   0076a2dda04e1ee05ab2fb792297bf2b  1148909108  0.614754\n",
       "3   0088a6fc0d8c03ec5b2513a984ce9a1e  1148909108  1.024590\n",
       "4   00a43691f12565b801241743556417ab   839709106  0.054152\n",
       "5   00e16789fa95549730b666911908f540    63509105  0.262097\n",
       "6   00ed7cd778e08c7551731988e73e419e   463509109  1.299578\n",
       "7   01359a19943d444cc75164d5133c3a65  1529509105  2.502262\n",
       "8   014ad23bd34b4131e822c9cfba02ecce  1973309108  0.065217\n",
       "9   0161e575a9992d5393ee578b45f3b1a7   963209107  1.216216\n",
       "10  017d61f43565734e85ca6c652e6dd06f   463509109  1.303797\n",
       "11  01903b3114c70a109aea3934297ea6ef  1148909108  0.614754\n",
       "12  01c1ef0570a4d56b900a23b255dfc658   463509109  0.822785\n",
       "13  01d4ad980a492f39f2272dbc36ec9698    63509105  0.100806\n",
       "14  01eb724c80739c41018dc5db9db28ead  1678509106  0.283019\n",
       "15  01ed205aebdc4b32bd156075668d541a   963209107  1.213213"
      ]
     },
     "execution_count": 27,
     "metadata": {},
     "output_type": "execute_result"
    }
   ],
   "source": [
    "data.groupby(['user_id','item_id'])['score'].sum().reset_index()"
   ]
  },
  {
   "cell_type": "code",
   "execution_count": null,
   "metadata": {},
   "outputs": [],
   "source": []
  }
 ],
 "metadata": {
  "kernelspec": {
   "display_name": "Python 3",
   "language": "python",
   "name": "python3"
  },
  "language_info": {
   "codemirror_mode": {
    "name": "ipython",
    "version": 3
   },
   "file_extension": ".py",
   "mimetype": "text/x-python",
   "name": "python",
   "nbconvert_exporter": "python",
   "pygments_lexer": "ipython3",
   "version": "3.7.4"
  }
 },
 "nbformat": 4,
 "nbformat_minor": 2
}
