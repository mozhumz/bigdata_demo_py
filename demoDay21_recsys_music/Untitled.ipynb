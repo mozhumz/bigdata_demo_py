{
 "cells": [
  {
   "cell_type": "code",
   "execution_count": 3,
   "metadata": {},
   "outputs": [],
   "source": [
    "import pandas as pd\n",
    "import os"
   ]
  },
  {
   "cell_type": "code",
   "execution_count": 4,
   "metadata": {},
   "outputs": [],
   "source": [
    "data_path = 'G:\\\\idea_workspace\\\\bigdata\\\\bigdata_demo_py\\\\demoDay21_recsys_music\\\\data\\music_data'\n",
    "music_mid_data_path = \"data/music_mid_data\""
   ]
  },
  {
   "cell_type": "code",
   "execution_count": 5,
   "metadata": {},
   "outputs": [],
   "source": [
    "def music_data(nrows=None):\n",
    "    music_meta = os.path.join(data_path,'music_meta')\n",
    "    df_music_meta = pd.read_csv(music_meta,\n",
    "                                sep='\\001',\n",
    "                                nrows=nrows,\n",
    "                                names=['item_id','item_name','desc','total_timelen','location','tags'])\n",
    "    df_music_meta = df_music_meta.fillna('-')\n",
    "    del df_music_meta['desc']\n",
    "    return df_music_meta"
   ]
  },
  {
   "cell_type": "code",
   "execution_count": 6,
   "metadata": {},
   "outputs": [],
   "source": [
    "def user_profile(nrows=None):\n",
    "    user_profile = os.path.join(data_path, 'user_profile.data')\n",
    "    return pd.read_csv(user_profile,\n",
    "                       sep=',',\n",
    "                       nrows=nrows,\n",
    "                       names=['user_id', 'gender', 'age', 'salary', 'province'])"
   ]
  },
  {
   "cell_type": "code",
   "execution_count": 16,
   "metadata": {},
   "outputs": [],
   "source": []
  },
  {
   "cell_type": "code",
   "execution_count": 17,
   "metadata": {},
   "outputs": [
    {
     "data": {
      "text/html": [
       "<div>\n",
       "<style scoped>\n",
       "    .dataframe tbody tr th:only-of-type {\n",
       "        vertical-align: middle;\n",
       "    }\n",
       "\n",
       "    .dataframe tbody tr th {\n",
       "        vertical-align: top;\n",
       "    }\n",
       "\n",
       "    .dataframe thead th {\n",
       "        text-align: right;\n",
       "    }\n",
       "</style>\n",
       "<table border=\"1\" class=\"dataframe\">\n",
       "  <thead>\n",
       "    <tr style=\"text-align: right;\">\n",
       "      <th></th>\n",
       "      <th>user_id</th>\n",
       "      <th>gender</th>\n",
       "      <th>age</th>\n",
       "      <th>salary</th>\n",
       "      <th>province</th>\n",
       "    </tr>\n",
       "  </thead>\n",
       "  <tbody>\n",
       "    <tr>\n",
       "      <td>0</td>\n",
       "      <td>00ea9a2fe9c6810aab440c4d8c050000</td>\n",
       "      <td>女</td>\n",
       "      <td>26-35</td>\n",
       "      <td>20000-100000</td>\n",
       "      <td>江苏</td>\n",
       "    </tr>\n",
       "    <tr>\n",
       "      <td>1</td>\n",
       "      <td>01a0ae50fd4b9ef6ed04c22a7e421000</td>\n",
       "      <td>女</td>\n",
       "      <td>36-45</td>\n",
       "      <td>0-2000</td>\n",
       "      <td>河北</td>\n",
       "    </tr>\n",
       "    <tr>\n",
       "      <td>2</td>\n",
       "      <td>002db7d2360562dd16828c4b91402000</td>\n",
       "      <td>女</td>\n",
       "      <td>46-100</td>\n",
       "      <td>5000-10000</td>\n",
       "      <td>云南</td>\n",
       "    </tr>\n",
       "    <tr>\n",
       "      <td>3</td>\n",
       "      <td>006a184749e3b3eb83e9eb516d522000</td>\n",
       "      <td>男</td>\n",
       "      <td>36-45</td>\n",
       "      <td>2000-5000</td>\n",
       "      <td>天津</td>\n",
       "    </tr>\n",
       "    <tr>\n",
       "      <td>4</td>\n",
       "      <td>00de61c1d635ad964eef2aefa8292000</td>\n",
       "      <td>女</td>\n",
       "      <td>19-25</td>\n",
       "      <td>2000-5000</td>\n",
       "      <td>内蒙古</td>\n",
       "    </tr>\n",
       "  </tbody>\n",
       "</table>\n",
       "</div>"
      ],
      "text/plain": [
       "                            user_id gender     age        salary province\n",
       "0  00ea9a2fe9c6810aab440c4d8c050000      女   26-35  20000-100000       江苏\n",
       "1  01a0ae50fd4b9ef6ed04c22a7e421000      女   36-45        0-2000       河北\n",
       "2  002db7d2360562dd16828c4b91402000      女  46-100    5000-10000       云南\n",
       "3  006a184749e3b3eb83e9eb516d522000      男   36-45     2000-5000       天津\n",
       "4  00de61c1d635ad964eef2aefa8292000      女   19-25     2000-5000      内蒙古"
      ]
     },
     "execution_count": 17,
     "metadata": {},
     "output_type": "execute_result"
    }
   ],
   "source": []
  },
  {
   "cell_type": "code",
   "execution_count": 7,
   "metadata": {},
   "outputs": [],
   "source": [
    "def user_watch(nrows=None):\n",
    "    user_watch_pref = os.path.join(data_path, 'user_watch_pref.sml')\n",
    "    return pd.read_csv(user_watch_pref,\n",
    "                       sep='\\001',\n",
    "                       nrows=nrows,\n",
    "                       names=['user_id', 'item_id', 'stay_seconds', 'hour'])"
   ]
  },
  {
   "cell_type": "code",
   "execution_count": 19,
   "metadata": {},
   "outputs": [],
   "source": []
  },
  {
   "cell_type": "code",
   "execution_count": 20,
   "metadata": {},
   "outputs": [
    {
     "data": {
      "text/html": [
       "<div>\n",
       "<style scoped>\n",
       "    .dataframe tbody tr th:only-of-type {\n",
       "        vertical-align: middle;\n",
       "    }\n",
       "\n",
       "    .dataframe tbody tr th {\n",
       "        vertical-align: top;\n",
       "    }\n",
       "\n",
       "    .dataframe thead th {\n",
       "        text-align: right;\n",
       "    }\n",
       "</style>\n",
       "<table border=\"1\" class=\"dataframe\">\n",
       "  <thead>\n",
       "    <tr style=\"text-align: right;\">\n",
       "      <th></th>\n",
       "      <th>user_id</th>\n",
       "      <th>item_id</th>\n",
       "      <th>stay_seconds</th>\n",
       "      <th>hour</th>\n",
       "    </tr>\n",
       "  </thead>\n",
       "  <tbody>\n",
       "    <tr>\n",
       "      <td>0</td>\n",
       "      <td>01e069ed67600f1914e64c0fe7730944</td>\n",
       "      <td>4090309101</td>\n",
       "      <td>15</td>\n",
       "      <td>19</td>\n",
       "    </tr>\n",
       "    <tr>\n",
       "      <td>1</td>\n",
       "      <td>01d86fc1401b283d5828c293be290e08</td>\n",
       "      <td>6192809101</td>\n",
       "      <td>75</td>\n",
       "      <td>12</td>\n",
       "    </tr>\n",
       "    <tr>\n",
       "      <td>2</td>\n",
       "      <td>002f4b9c49be9a0b2c13e1c3c4f6a21c</td>\n",
       "      <td>8915109101</td>\n",
       "      <td>385</td>\n",
       "      <td>18</td>\n",
       "    </tr>\n",
       "    <tr>\n",
       "      <td>3</td>\n",
       "      <td>01e3fdf415107cd6046a07481fbed499</td>\n",
       "      <td>6470209102</td>\n",
       "      <td>1635</td>\n",
       "      <td>21</td>\n",
       "    </tr>\n",
       "    <tr>\n",
       "      <td>4</td>\n",
       "      <td>01e3fdf415107cd6046a07481fbed499</td>\n",
       "      <td>6470209102</td>\n",
       "      <td>555</td>\n",
       "      <td>16</td>\n",
       "    </tr>\n",
       "  </tbody>\n",
       "</table>\n",
       "</div>"
      ],
      "text/plain": [
       "                            user_id     item_id  stay_seconds  hour\n",
       "0  01e069ed67600f1914e64c0fe7730944  4090309101            15    19\n",
       "1  01d86fc1401b283d5828c293be290e08  6192809101            75    12\n",
       "2  002f4b9c49be9a0b2c13e1c3c4f6a21c  8915109101           385    18\n",
       "3  01e3fdf415107cd6046a07481fbed499  6470209102          1635    21\n",
       "4  01e3fdf415107cd6046a07481fbed499  6470209102           555    16"
      ]
     },
     "execution_count": 20,
     "metadata": {},
     "output_type": "execute_result"
    }
   ],
   "source": []
  },
  {
   "cell_type": "code",
   "execution_count": 21,
   "metadata": {},
   "outputs": [],
   "source": []
  },
  {
   "cell_type": "code",
   "execution_count": 22,
   "metadata": {},
   "outputs": [
    {
     "ename": "NameError",
     "evalue": "name 'music_df' is not defined",
     "output_type": "error",
     "traceback": [
      "\u001b[1;31m---------------------------------------------------------------------------\u001b[0m",
      "\u001b[1;31mNameError\u001b[0m                                 Traceback (most recent call last)",
      "\u001b[1;32m<ipython-input-22-c47e807eee92>\u001b[0m in \u001b[0;36m<module>\u001b[1;34m\u001b[0m\n\u001b[1;32m----> 1\u001b[1;33m \u001b[0mmusic_df\u001b[0m\u001b[1;33m.\u001b[0m\u001b[0mhead\u001b[0m\u001b[1;33m(\u001b[0m\u001b[1;33m)\u001b[0m\u001b[1;33m\u001b[0m\u001b[1;33m\u001b[0m\u001b[0m\n\u001b[0m",
      "\u001b[1;31mNameError\u001b[0m: name 'music_df' is not defined"
     ]
    }
   ],
   "source": []
  },
  {
   "cell_type": "code",
   "execution_count": 8,
   "metadata": {},
   "outputs": [
    {
     "data": {
      "text/plain": [
       "100"
      ]
     },
     "execution_count": 8,
     "metadata": {},
     "output_type": "execute_result"
    }
   ],
   "source": [
    "df_user_watch=user_watch(100)\n",
    "len(df_user_watch)"
   ]
  },
  {
   "cell_type": "code",
   "execution_count": 9,
   "metadata": {},
   "outputs": [
    {
     "data": {
      "text/html": [
       "<div>\n",
       "<style scoped>\n",
       "    .dataframe tbody tr th:only-of-type {\n",
       "        vertical-align: middle;\n",
       "    }\n",
       "\n",
       "    .dataframe tbody tr th {\n",
       "        vertical-align: top;\n",
       "    }\n",
       "\n",
       "    .dataframe thead th {\n",
       "        text-align: right;\n",
       "    }\n",
       "</style>\n",
       "<table border=\"1\" class=\"dataframe\">\n",
       "  <thead>\n",
       "    <tr style=\"text-align: right;\">\n",
       "      <th></th>\n",
       "      <th>user_id</th>\n",
       "      <th>item_id</th>\n",
       "      <th>stay_seconds</th>\n",
       "      <th>hour</th>\n",
       "    </tr>\n",
       "  </thead>\n",
       "  <tbody>\n",
       "    <tr>\n",
       "      <td>0</td>\n",
       "      <td>01e069ed67600f1914e64c0fe7730944</td>\n",
       "      <td>4090309101</td>\n",
       "      <td>15</td>\n",
       "      <td>19</td>\n",
       "    </tr>\n",
       "    <tr>\n",
       "      <td>1</td>\n",
       "      <td>01d86fc1401b283d5828c293be290e08</td>\n",
       "      <td>6192809101</td>\n",
       "      <td>75</td>\n",
       "      <td>12</td>\n",
       "    </tr>\n",
       "    <tr>\n",
       "      <td>2</td>\n",
       "      <td>002f4b9c49be9a0b2c13e1c3c4f6a21c</td>\n",
       "      <td>8915109101</td>\n",
       "      <td>385</td>\n",
       "      <td>18</td>\n",
       "    </tr>\n",
       "    <tr>\n",
       "      <td>3</td>\n",
       "      <td>01e3fdf415107cd6046a07481fbed499</td>\n",
       "      <td>6470209102</td>\n",
       "      <td>1635</td>\n",
       "      <td>21</td>\n",
       "    </tr>\n",
       "    <tr>\n",
       "      <td>4</td>\n",
       "      <td>01e3fdf415107cd6046a07481fbed499</td>\n",
       "      <td>6470209102</td>\n",
       "      <td>555</td>\n",
       "      <td>16</td>\n",
       "    </tr>\n",
       "  </tbody>\n",
       "</table>\n",
       "</div>"
      ],
      "text/plain": [
       "                            user_id     item_id  stay_seconds  hour\n",
       "0  01e069ed67600f1914e64c0fe7730944  4090309101            15    19\n",
       "1  01d86fc1401b283d5828c293be290e08  6192809101            75    12\n",
       "2  002f4b9c49be9a0b2c13e1c3c4f6a21c  8915109101           385    18\n",
       "3  01e3fdf415107cd6046a07481fbed499  6470209102          1635    21\n",
       "4  01e3fdf415107cd6046a07481fbed499  6470209102           555    16"
      ]
     },
     "execution_count": 9,
     "metadata": {},
     "output_type": "execute_result"
    }
   ],
   "source": [
    "df_user_watch.head()\n"
   ]
  },
  {
   "cell_type": "code",
   "execution_count": 25,
   "metadata": {},
   "outputs": [
    {
     "name": "stderr",
     "output_type": "stream",
     "text": [
      "d:\\ProgramData\\Anaconda3\\lib\\site-packages\\IPython\\core\\interactiveshell.py:3249: DtypeWarning: Columns (3) have mixed types. Specify dtype option on import or set low_memory=False.\n",
      "  if (await self.run_code(code, result,  async_=asy)):\n"
     ]
    }
   ],
   "source": []
  },
  {
   "cell_type": "code",
   "execution_count": 26,
   "metadata": {},
   "outputs": [
    {
     "data": {
      "text/html": [
       "<div>\n",
       "<style scoped>\n",
       "    .dataframe tbody tr th:only-of-type {\n",
       "        vertical-align: middle;\n",
       "    }\n",
       "\n",
       "    .dataframe tbody tr th {\n",
       "        vertical-align: top;\n",
       "    }\n",
       "\n",
       "    .dataframe thead th {\n",
       "        text-align: right;\n",
       "    }\n",
       "</style>\n",
       "<table border=\"1\" class=\"dataframe\">\n",
       "  <thead>\n",
       "    <tr style=\"text-align: right;\">\n",
       "      <th></th>\n",
       "      <th>item_id</th>\n",
       "      <th>item_name</th>\n",
       "      <th>total_timelen</th>\n",
       "      <th>location</th>\n",
       "      <th>tags</th>\n",
       "    </tr>\n",
       "  </thead>\n",
       "  <tbody>\n",
       "    <tr>\n",
       "      <td>0</td>\n",
       "      <td>93709100</td>\n",
       "      <td>韩国少女时代最新回归新专主打《I GOT A BOY》</td>\n",
       "      <td>304</td>\n",
       "      <td>-</td>\n",
       "      <td>少女时代,鹿晗,韩国,exo综艺,最新回归,exo快乐大本营,吴世勋,fx组合,音悦台</td>\n",
       "    </tr>\n",
       "    <tr>\n",
       "      <td>1</td>\n",
       "      <td>102209100</td>\n",
       "      <td>韩国张力尹携手EXO成员CHEN《呼吸》中文版</td>\n",
       "      <td>274</td>\n",
       "      <td>-</td>\n",
       "      <td>CHEN,少女时代,呼吸,鹿晗,张力尹,韩国,EXO成员,EXO,宋茜,音悦台</td>\n",
       "    </tr>\n",
       "    <tr>\n",
       "      <td>2</td>\n",
       "      <td>29900100</td>\n",
       "      <td>徐颢菲《猫的借口》</td>\n",
       "      <td>284</td>\n",
       "      <td>国内</td>\n",
       "      <td>-</td>\n",
       "    </tr>\n",
       "    <tr>\n",
       "      <td>3</td>\n",
       "      <td>368709100</td>\n",
       "      <td>美女翻唱 别问我是谁</td>\n",
       "      <td>288</td>\n",
       "      <td>-</td>\n",
       "      <td>流行歌曲,翻唱,网络歌曲,美女,舞曲,社会</td>\n",
       "    </tr>\n",
       "    <tr>\n",
       "      <td>4</td>\n",
       "      <td>603409100</td>\n",
       "      <td>龙梅子,老猫 老爸老爸你好吗</td>\n",
       "      <td>259</td>\n",
       "      <td>-</td>\n",
       "      <td>你好吗,龙梅子,老猫,老爸老爸</td>\n",
       "    </tr>\n",
       "  </tbody>\n",
       "</table>\n",
       "</div>"
      ],
      "text/plain": [
       "     item_id                    item_name total_timelen location  \\\n",
       "0   93709100  韩国少女时代最新回归新专主打《I GOT A BOY》           304        -   \n",
       "1  102209100      韩国张力尹携手EXO成员CHEN《呼吸》中文版           274        -   \n",
       "2   29900100                    徐颢菲《猫的借口》           284       国内   \n",
       "3  368709100                   美女翻唱 别问我是谁           288        -   \n",
       "4  603409100               龙梅子,老猫 老爸老爸你好吗           259        -   \n",
       "\n",
       "                                          tags  \n",
       "0  少女时代,鹿晗,韩国,exo综艺,最新回归,exo快乐大本营,吴世勋,fx组合,音悦台  \n",
       "1      CHEN,少女时代,呼吸,鹿晗,张力尹,韩国,EXO成员,EXO,宋茜,音悦台  \n",
       "2                                            -  \n",
       "3                        流行歌曲,翻唱,网络歌曲,美女,舞曲,社会  \n",
       "4                              你好吗,龙梅子,老猫,老爸老爸  "
      ]
     },
     "execution_count": 26,
     "metadata": {},
     "output_type": "execute_result"
    }
   ],
   "source": []
  },
  {
   "cell_type": "code",
   "execution_count": 10,
   "metadata": {},
   "outputs": [],
   "source": [
    "def music_data2(nrows=None):\n",
    "    music_meta = os.path.join(data_path,'music_meta')\n",
    "    df_music_meta = pd.read_csv(music_meta,\n",
    "                                sep='\\001',\n",
    "                                nrows=nrows,\n",
    "                                names=['item_id','item_name','desc','total_timelen','location','tags'],\n",
    "                                dtype={'item_id':int,'item_name':str,'desc':str,'total_timelen':str,'tags':str})\n",
    "    df_music_meta = df_music_meta.fillna('-')\n",
    "    del df_music_meta['desc']\n",
    "    return df_music_meta"
   ]
  },
  {
   "cell_type": "code",
   "execution_count": 28,
   "metadata": {},
   "outputs": [],
   "source": []
  },
  {
   "cell_type": "code",
   "execution_count": 11,
   "metadata": {},
   "outputs": [],
   "source": [
    "df_music_meta=music_data2()"
   ]
  },
  {
   "cell_type": "code",
   "execution_count": 13,
   "metadata": {},
   "outputs": [
    {
     "data": {
      "text/plain": [
       "757833"
      ]
     },
     "execution_count": 13,
     "metadata": {},
     "output_type": "execute_result"
    }
   ],
   "source": [
    "df_music_meta.head(\n",
    ")\n",
    "len(df_music_meta)"
   ]
  },
  {
   "cell_type": "code",
   "execution_count": 33,
   "metadata": {},
   "outputs": [],
   "source": []
  },
  {
   "cell_type": "code",
   "execution_count": 34,
   "metadata": {},
   "outputs": [],
   "source": []
  },
  {
   "cell_type": "code",
   "execution_count": 69,
   "metadata": {},
   "outputs": [
    {
     "data": {
      "text/plain": [
       "757924"
      ]
     },
     "execution_count": 69,
     "metadata": {},
     "output_type": "execute_result"
    }
   ],
   "source": []
  },
  {
   "cell_type": "code",
   "execution_count": 14,
   "metadata": {},
   "outputs": [
    {
     "data": {
      "text/plain": [
       "17"
      ]
     },
     "execution_count": 14,
     "metadata": {},
     "output_type": "execute_result"
    }
   ],
   "source": [
    "# data.head()\n",
    "# data2=df_user_watch.merge(df_music_meta,on='item_id',how='left')\n",
    "# len(data2)\n",
    "data2=df_user_watch.merge(df_music_meta,on='item_id',how='inner')\n",
    "len(data2)"
   ]
  },
  {
   "cell_type": "code",
   "execution_count": 15,
   "metadata": {},
   "outputs": [
    {
     "data": {
      "text/html": [
       "<div>\n",
       "<style scoped>\n",
       "    .dataframe tbody tr th:only-of-type {\n",
       "        vertical-align: middle;\n",
       "    }\n",
       "\n",
       "    .dataframe tbody tr th {\n",
       "        vertical-align: top;\n",
       "    }\n",
       "\n",
       "    .dataframe thead th {\n",
       "        text-align: right;\n",
       "    }\n",
       "</style>\n",
       "<table border=\"1\" class=\"dataframe\">\n",
       "  <thead>\n",
       "    <tr style=\"text-align: right;\">\n",
       "      <th></th>\n",
       "      <th>user_id</th>\n",
       "      <th>item_id</th>\n",
       "      <th>stay_seconds</th>\n",
       "      <th>hour</th>\n",
       "      <th>item_name</th>\n",
       "      <th>total_timelen</th>\n",
       "      <th>location</th>\n",
       "      <th>tags</th>\n",
       "    </tr>\n",
       "  </thead>\n",
       "  <tbody>\n",
       "    <tr>\n",
       "      <td>0</td>\n",
       "      <td>00213d17d2eba917e859d882aa89ee8e</td>\n",
       "      <td>1352509103</td>\n",
       "      <td>15</td>\n",
       "      <td>20</td>\n",
       "      <td>封神英雄榜＼片头曲 神仙道张馨予</td>\n",
       "      <td>150</td>\n",
       "      <td>-</td>\n",
       "      <td>倪萍回归央视,新卷珠帘,《刘欢版》,邓紫棋林宥嘉,快乐大本营,封神英雄榜</td>\n",
       "    </tr>\n",
       "    <tr>\n",
       "      <td>1</td>\n",
       "      <td>01d4ad980a492f39f2272dbc36ec9698</td>\n",
       "      <td>63509105</td>\n",
       "      <td>75</td>\n",
       "      <td>17</td>\n",
       "      <td>吉他弹唱教学《我真的受伤了》</td>\n",
       "      <td>744</td>\n",
       "      <td>-</td>\n",
       "      <td>我真的受伤了,弹唱,国内,吉他,教学</td>\n",
       "    </tr>\n",
       "    <tr>\n",
       "      <td>2</td>\n",
       "      <td>00e16789fa95549730b666911908f540</td>\n",
       "      <td>63509105</td>\n",
       "      <td>195</td>\n",
       "      <td>11</td>\n",
       "      <td>吉他弹唱教学《我真的受伤了》</td>\n",
       "      <td>744</td>\n",
       "      <td>-</td>\n",
       "      <td>我真的受伤了,弹唱,国内,吉他,教学</td>\n",
       "    </tr>\n",
       "    <tr>\n",
       "      <td>3</td>\n",
       "      <td>01359a19943d444cc75164d5133c3a65</td>\n",
       "      <td>1529509105</td>\n",
       "      <td>277</td>\n",
       "      <td>21</td>\n",
       "      <td>机械哥全新DUBSTEP舞蹈视频 BEAT IT 致敬MJ 超帅</td>\n",
       "      <td>221</td>\n",
       "      <td>-</td>\n",
       "      <td>致敬MJ,机械哥,BEAT,超帅,IT,舞蹈,DUBSTEP</td>\n",
       "    </tr>\n",
       "    <tr>\n",
       "      <td>4</td>\n",
       "      <td>01359a19943d444cc75164d5133c3a65</td>\n",
       "      <td>1529509105</td>\n",
       "      <td>276</td>\n",
       "      <td>21</td>\n",
       "      <td>机械哥全新DUBSTEP舞蹈视频 BEAT IT 致敬MJ 超帅</td>\n",
       "      <td>221</td>\n",
       "      <td>-</td>\n",
       "      <td>致敬MJ,机械哥,BEAT,超帅,IT,舞蹈,DUBSTEP</td>\n",
       "    </tr>\n",
       "    <tr>\n",
       "      <td>5</td>\n",
       "      <td>00a43691f12565b801241743556417ab</td>\n",
       "      <td>839709106</td>\n",
       "      <td>15</td>\n",
       "      <td>22</td>\n",
       "      <td>茜拉《最长的电影》</td>\n",
       "      <td>277</td>\n",
       "      <td>-</td>\n",
       "      <td>最长的电影,茜拉</td>\n",
       "    </tr>\n",
       "    <tr>\n",
       "      <td>6</td>\n",
       "      <td>01eb724c80739c41018dc5db9db28ead</td>\n",
       "      <td>1678509106</td>\n",
       "      <td>75</td>\n",
       "      <td>22</td>\n",
       "      <td>刘瑞琦《房间》MV首发</td>\n",
       "      <td>265</td>\n",
       "      <td>-</td>\n",
       "      <td>刘瑞琦,房间</td>\n",
       "    </tr>\n",
       "    <tr>\n",
       "      <td>7</td>\n",
       "      <td>0161e575a9992d5393ee578b45f3b1a7</td>\n",
       "      <td>963209107</td>\n",
       "      <td>405</td>\n",
       "      <td>13</td>\n",
       "      <td>川子 今生缘 经典流行音乐MTV MV</td>\n",
       "      <td>333</td>\n",
       "      <td>-</td>\n",
       "      <td>MV,经典音乐,音乐天堂,MTV,主题曲,流行音乐,高清视频,音乐中心,流行</td>\n",
       "    </tr>\n",
       "    <tr>\n",
       "      <td>8</td>\n",
       "      <td>01ed205aebdc4b32bd156075668d541a</td>\n",
       "      <td>963209107</td>\n",
       "      <td>404</td>\n",
       "      <td>7</td>\n",
       "      <td>川子 今生缘 经典流行音乐MTV MV</td>\n",
       "      <td>333</td>\n",
       "      <td>-</td>\n",
       "      <td>MV,经典音乐,音乐天堂,MTV,主题曲,流行音乐,高清视频,音乐中心,流行</td>\n",
       "    </tr>\n",
       "    <tr>\n",
       "      <td>9</td>\n",
       "      <td>0029b6161dbb1b8721f5f6ad1d7594b6</td>\n",
       "      <td>1148909108</td>\n",
       "      <td>239</td>\n",
       "      <td>10</td>\n",
       "      <td>中国人民过马路战歌 珍爱生命远离红灯</td>\n",
       "      <td>122</td>\n",
       "      <td>-</td>\n",
       "      <td>原创,音乐</td>\n",
       "    </tr>\n",
       "    <tr>\n",
       "      <td>10</td>\n",
       "      <td>0088a6fc0d8c03ec5b2513a984ce9a1e</td>\n",
       "      <td>1148909108</td>\n",
       "      <td>125</td>\n",
       "      <td>14</td>\n",
       "      <td>中国人民过马路战歌 珍爱生命远离红灯</td>\n",
       "      <td>122</td>\n",
       "      <td>-</td>\n",
       "      <td>原创,音乐</td>\n",
       "    </tr>\n",
       "    <tr>\n",
       "      <td>11</td>\n",
       "      <td>0076a2dda04e1ee05ab2fb792297bf2b</td>\n",
       "      <td>1148909108</td>\n",
       "      <td>75</td>\n",
       "      <td>12</td>\n",
       "      <td>中国人民过马路战歌 珍爱生命远离红灯</td>\n",
       "      <td>122</td>\n",
       "      <td>-</td>\n",
       "      <td>原创,音乐</td>\n",
       "    </tr>\n",
       "    <tr>\n",
       "      <td>12</td>\n",
       "      <td>01903b3114c70a109aea3934297ea6ef</td>\n",
       "      <td>1148909108</td>\n",
       "      <td>75</td>\n",
       "      <td>12</td>\n",
       "      <td>中国人民过马路战歌 珍爱生命远离红灯</td>\n",
       "      <td>122</td>\n",
       "      <td>-</td>\n",
       "      <td>原创,音乐</td>\n",
       "    </tr>\n",
       "    <tr>\n",
       "      <td>13</td>\n",
       "      <td>014ad23bd34b4131e822c9cfba02ecce</td>\n",
       "      <td>1973309108</td>\n",
       "      <td>15</td>\n",
       "      <td>11</td>\n",
       "      <td>韩磊 《花房姑娘》我是歌手第二季第九期歌单</td>\n",
       "      <td>230</td>\n",
       "      <td>-</td>\n",
       "      <td>韩磊,花房姑娘,第九期歌单,我是歌手第二季</td>\n",
       "    </tr>\n",
       "    <tr>\n",
       "      <td>14</td>\n",
       "      <td>01c1ef0570a4d56b900a23b255dfc658</td>\n",
       "      <td>463509109</td>\n",
       "      <td>195</td>\n",
       "      <td>16</td>\n",
       "      <td>乌兰托娅-我和草原有个约定</td>\n",
       "      <td>237</td>\n",
       "      <td>-</td>\n",
       "      <td>草原歌曲,降央卓玛,蒙古草原歌,乌兰托娅,明星</td>\n",
       "    </tr>\n",
       "    <tr>\n",
       "      <td>15</td>\n",
       "      <td>00ed7cd778e08c7551731988e73e419e</td>\n",
       "      <td>463509109</td>\n",
       "      <td>308</td>\n",
       "      <td>8</td>\n",
       "      <td>乌兰托娅-我和草原有个约定</td>\n",
       "      <td>237</td>\n",
       "      <td>-</td>\n",
       "      <td>草原歌曲,降央卓玛,蒙古草原歌,乌兰托娅,明星</td>\n",
       "    </tr>\n",
       "    <tr>\n",
       "      <td>16</td>\n",
       "      <td>017d61f43565734e85ca6c652e6dd06f</td>\n",
       "      <td>463509109</td>\n",
       "      <td>309</td>\n",
       "      <td>23</td>\n",
       "      <td>乌兰托娅-我和草原有个约定</td>\n",
       "      <td>237</td>\n",
       "      <td>-</td>\n",
       "      <td>草原歌曲,降央卓玛,蒙古草原歌,乌兰托娅,明星</td>\n",
       "    </tr>\n",
       "  </tbody>\n",
       "</table>\n",
       "</div>"
      ],
      "text/plain": [
       "                             user_id     item_id  stay_seconds  hour  \\\n",
       "0   00213d17d2eba917e859d882aa89ee8e  1352509103            15    20   \n",
       "1   01d4ad980a492f39f2272dbc36ec9698    63509105            75    17   \n",
       "2   00e16789fa95549730b666911908f540    63509105           195    11   \n",
       "3   01359a19943d444cc75164d5133c3a65  1529509105           277    21   \n",
       "4   01359a19943d444cc75164d5133c3a65  1529509105           276    21   \n",
       "5   00a43691f12565b801241743556417ab   839709106            15    22   \n",
       "6   01eb724c80739c41018dc5db9db28ead  1678509106            75    22   \n",
       "7   0161e575a9992d5393ee578b45f3b1a7   963209107           405    13   \n",
       "8   01ed205aebdc4b32bd156075668d541a   963209107           404     7   \n",
       "9   0029b6161dbb1b8721f5f6ad1d7594b6  1148909108           239    10   \n",
       "10  0088a6fc0d8c03ec5b2513a984ce9a1e  1148909108           125    14   \n",
       "11  0076a2dda04e1ee05ab2fb792297bf2b  1148909108            75    12   \n",
       "12  01903b3114c70a109aea3934297ea6ef  1148909108            75    12   \n",
       "13  014ad23bd34b4131e822c9cfba02ecce  1973309108            15    11   \n",
       "14  01c1ef0570a4d56b900a23b255dfc658   463509109           195    16   \n",
       "15  00ed7cd778e08c7551731988e73e419e   463509109           308     8   \n",
       "16  017d61f43565734e85ca6c652e6dd06f   463509109           309    23   \n",
       "\n",
       "                           item_name total_timelen location  \\\n",
       "0                   封神英雄榜＼片头曲 神仙道张馨予           150        -   \n",
       "1                     吉他弹唱教学《我真的受伤了》           744        -   \n",
       "2                     吉他弹唱教学《我真的受伤了》           744        -   \n",
       "3   机械哥全新DUBSTEP舞蹈视频 BEAT IT 致敬MJ 超帅           221        -   \n",
       "4   机械哥全新DUBSTEP舞蹈视频 BEAT IT 致敬MJ 超帅           221        -   \n",
       "5                          茜拉《最长的电影》           277        -   \n",
       "6                        刘瑞琦《房间》MV首发           265        -   \n",
       "7                川子 今生缘 经典流行音乐MTV MV           333        -   \n",
       "8                川子 今生缘 经典流行音乐MTV MV           333        -   \n",
       "9                 中国人民过马路战歌 珍爱生命远离红灯           122        -   \n",
       "10                中国人民过马路战歌 珍爱生命远离红灯           122        -   \n",
       "11                中国人民过马路战歌 珍爱生命远离红灯           122        -   \n",
       "12                中国人民过马路战歌 珍爱生命远离红灯           122        -   \n",
       "13             韩磊 《花房姑娘》我是歌手第二季第九期歌单           230        -   \n",
       "14                     乌兰托娅-我和草原有个约定           237        -   \n",
       "15                     乌兰托娅-我和草原有个约定           237        -   \n",
       "16                     乌兰托娅-我和草原有个约定           237        -   \n",
       "\n",
       "                                      tags  \n",
       "0     倪萍回归央视,新卷珠帘,《刘欢版》,邓紫棋林宥嘉,快乐大本营,封神英雄榜  \n",
       "1                       我真的受伤了,弹唱,国内,吉他,教学  \n",
       "2                       我真的受伤了,弹唱,国内,吉他,教学  \n",
       "3           致敬MJ,机械哥,BEAT,超帅,IT,舞蹈,DUBSTEP  \n",
       "4           致敬MJ,机械哥,BEAT,超帅,IT,舞蹈,DUBSTEP  \n",
       "5                                 最长的电影,茜拉  \n",
       "6                                   刘瑞琦,房间  \n",
       "7   MV,经典音乐,音乐天堂,MTV,主题曲,流行音乐,高清视频,音乐中心,流行  \n",
       "8   MV,经典音乐,音乐天堂,MTV,主题曲,流行音乐,高清视频,音乐中心,流行  \n",
       "9                                    原创,音乐  \n",
       "10                                   原创,音乐  \n",
       "11                                   原创,音乐  \n",
       "12                                   原创,音乐  \n",
       "13                   韩磊,花房姑娘,第九期歌单,我是歌手第二季  \n",
       "14                 草原歌曲,降央卓玛,蒙古草原歌,乌兰托娅,明星  \n",
       "15                 草原歌曲,降央卓玛,蒙古草原歌,乌兰托娅,明星  \n",
       "16                 草原歌曲,降央卓玛,蒙古草原歌,乌兰托娅,明星  "
      ]
     },
     "execution_count": 15,
     "metadata": {},
     "output_type": "execute_result"
    }
   ],
   "source": [
    "data2.head(20)\n"
   ]
  },
  {
   "cell_type": "code",
   "execution_count": 17,
   "metadata": {},
   "outputs": [
    {
     "ename": "NameError",
     "evalue": "name 'df_music_meta' is not defined",
     "output_type": "error",
     "traceback": [
      "\u001b[1;31m---------------------------------------------------------------------------\u001b[0m",
      "\u001b[1;31mNameError\u001b[0m                                 Traceback (most recent call last)",
      "\u001b[1;32m<ipython-input-17-1b3a55f1e13b>\u001b[0m in \u001b[0;36m<module>\u001b[1;34m\u001b[0m\n\u001b[0;32m      1\u001b[0m \u001b[1;31m# 清除源数据缓存\u001b[0m\u001b[1;33m\u001b[0m\u001b[1;33m\u001b[0m\u001b[1;33m\u001b[0m\u001b[0m\n\u001b[1;32m----> 2\u001b[1;33m \u001b[1;32mdel\u001b[0m \u001b[0mdf_music_meta\u001b[0m\u001b[1;33m\u001b[0m\u001b[1;33m\u001b[0m\u001b[0m\n\u001b[0m\u001b[0;32m      3\u001b[0m \u001b[1;32mdel\u001b[0m \u001b[0mdf_user_watch\u001b[0m\u001b[1;33m\u001b[0m\u001b[1;33m\u001b[0m\u001b[0m\n",
      "\u001b[1;31mNameError\u001b[0m: name 'df_music_meta' is not defined"
     ]
    }
   ],
   "source": [
    "# 清除源数据缓存\n",
    "del df_music_meta\n",
    "del df_user_watch\n"
   ]
  },
  {
   "cell_type": "code",
   "execution_count": 18,
   "metadata": {},
   "outputs": [],
   "source": [
    "data2['score']=data2.apply(lambda x:float(x['stay_seconds'])/float(x['total_timelen']),axis=1)"
   ]
  },
  {
   "cell_type": "code",
   "execution_count": 19,
   "metadata": {},
   "outputs": [
    {
     "data": {
      "text/html": [
       "<div>\n",
       "<style scoped>\n",
       "    .dataframe tbody tr th:only-of-type {\n",
       "        vertical-align: middle;\n",
       "    }\n",
       "\n",
       "    .dataframe tbody tr th {\n",
       "        vertical-align: top;\n",
       "    }\n",
       "\n",
       "    .dataframe thead th {\n",
       "        text-align: right;\n",
       "    }\n",
       "</style>\n",
       "<table border=\"1\" class=\"dataframe\">\n",
       "  <thead>\n",
       "    <tr style=\"text-align: right;\">\n",
       "      <th></th>\n",
       "      <th>user_id</th>\n",
       "      <th>item_id</th>\n",
       "      <th>stay_seconds</th>\n",
       "      <th>hour</th>\n",
       "      <th>item_name</th>\n",
       "      <th>total_timelen</th>\n",
       "      <th>location</th>\n",
       "      <th>tags</th>\n",
       "      <th>score</th>\n",
       "    </tr>\n",
       "  </thead>\n",
       "  <tbody>\n",
       "    <tr>\n",
       "      <td>0</td>\n",
       "      <td>00213d17d2eba917e859d882aa89ee8e</td>\n",
       "      <td>1352509103</td>\n",
       "      <td>15</td>\n",
       "      <td>20</td>\n",
       "      <td>封神英雄榜＼片头曲 神仙道张馨予</td>\n",
       "      <td>150</td>\n",
       "      <td>-</td>\n",
       "      <td>倪萍回归央视,新卷珠帘,《刘欢版》,邓紫棋林宥嘉,快乐大本营,封神英雄榜</td>\n",
       "      <td>0.100000</td>\n",
       "    </tr>\n",
       "    <tr>\n",
       "      <td>1</td>\n",
       "      <td>01d4ad980a492f39f2272dbc36ec9698</td>\n",
       "      <td>63509105</td>\n",
       "      <td>75</td>\n",
       "      <td>17</td>\n",
       "      <td>吉他弹唱教学《我真的受伤了》</td>\n",
       "      <td>744</td>\n",
       "      <td>-</td>\n",
       "      <td>我真的受伤了,弹唱,国内,吉他,教学</td>\n",
       "      <td>0.100806</td>\n",
       "    </tr>\n",
       "    <tr>\n",
       "      <td>2</td>\n",
       "      <td>00e16789fa95549730b666911908f540</td>\n",
       "      <td>63509105</td>\n",
       "      <td>195</td>\n",
       "      <td>11</td>\n",
       "      <td>吉他弹唱教学《我真的受伤了》</td>\n",
       "      <td>744</td>\n",
       "      <td>-</td>\n",
       "      <td>我真的受伤了,弹唱,国内,吉他,教学</td>\n",
       "      <td>0.262097</td>\n",
       "    </tr>\n",
       "    <tr>\n",
       "      <td>3</td>\n",
       "      <td>01359a19943d444cc75164d5133c3a65</td>\n",
       "      <td>1529509105</td>\n",
       "      <td>277</td>\n",
       "      <td>21</td>\n",
       "      <td>机械哥全新DUBSTEP舞蹈视频 BEAT IT 致敬MJ 超帅</td>\n",
       "      <td>221</td>\n",
       "      <td>-</td>\n",
       "      <td>致敬MJ,机械哥,BEAT,超帅,IT,舞蹈,DUBSTEP</td>\n",
       "      <td>1.253394</td>\n",
       "    </tr>\n",
       "    <tr>\n",
       "      <td>4</td>\n",
       "      <td>01359a19943d444cc75164d5133c3a65</td>\n",
       "      <td>1529509105</td>\n",
       "      <td>276</td>\n",
       "      <td>21</td>\n",
       "      <td>机械哥全新DUBSTEP舞蹈视频 BEAT IT 致敬MJ 超帅</td>\n",
       "      <td>221</td>\n",
       "      <td>-</td>\n",
       "      <td>致敬MJ,机械哥,BEAT,超帅,IT,舞蹈,DUBSTEP</td>\n",
       "      <td>1.248869</td>\n",
       "    </tr>\n",
       "  </tbody>\n",
       "</table>\n",
       "</div>"
      ],
      "text/plain": [
       "                            user_id     item_id  stay_seconds  hour  \\\n",
       "0  00213d17d2eba917e859d882aa89ee8e  1352509103            15    20   \n",
       "1  01d4ad980a492f39f2272dbc36ec9698    63509105            75    17   \n",
       "2  00e16789fa95549730b666911908f540    63509105           195    11   \n",
       "3  01359a19943d444cc75164d5133c3a65  1529509105           277    21   \n",
       "4  01359a19943d444cc75164d5133c3a65  1529509105           276    21   \n",
       "\n",
       "                          item_name total_timelen location  \\\n",
       "0                  封神英雄榜＼片头曲 神仙道张馨予           150        -   \n",
       "1                    吉他弹唱教学《我真的受伤了》           744        -   \n",
       "2                    吉他弹唱教学《我真的受伤了》           744        -   \n",
       "3  机械哥全新DUBSTEP舞蹈视频 BEAT IT 致敬MJ 超帅           221        -   \n",
       "4  机械哥全新DUBSTEP舞蹈视频 BEAT IT 致敬MJ 超帅           221        -   \n",
       "\n",
       "                                   tags     score  \n",
       "0  倪萍回归央视,新卷珠帘,《刘欢版》,邓紫棋林宥嘉,快乐大本营,封神英雄榜  0.100000  \n",
       "1                    我真的受伤了,弹唱,国内,吉他,教学  0.100806  \n",
       "2                    我真的受伤了,弹唱,国内,吉他,教学  0.262097  \n",
       "3        致敬MJ,机械哥,BEAT,超帅,IT,舞蹈,DUBSTEP  1.253394  \n",
       "4        致敬MJ,机械哥,BEAT,超帅,IT,舞蹈,DUBSTEP  1.248869  "
      ]
     },
     "execution_count": 19,
     "metadata": {},
     "output_type": "execute_result"
    }
   ],
   "source": [
    "data2.head()"
   ]
  },
  {
   "cell_type": "code",
   "execution_count": 45,
   "metadata": {},
   "outputs": [],
   "source": [
    "# data2['score']=data2.apply(lambda x:float(x['stay_seconds'])/float(x['total_timelen']),axis=1)"
   ]
  },
  {
   "cell_type": "code",
   "execution_count": 46,
   "metadata": {},
   "outputs": [
    {
     "data": {
      "text/html": [
       "<div>\n",
       "<style scoped>\n",
       "    .dataframe tbody tr th:only-of-type {\n",
       "        vertical-align: middle;\n",
       "    }\n",
       "\n",
       "    .dataframe tbody tr th {\n",
       "        vertical-align: top;\n",
       "    }\n",
       "\n",
       "    .dataframe thead th {\n",
       "        text-align: right;\n",
       "    }\n",
       "</style>\n",
       "<table border=\"1\" class=\"dataframe\">\n",
       "  <thead>\n",
       "    <tr style=\"text-align: right;\">\n",
       "      <th></th>\n",
       "      <th>user_id</th>\n",
       "      <th>item_id</th>\n",
       "      <th>stay_seconds</th>\n",
       "      <th>hour</th>\n",
       "      <th>item_name</th>\n",
       "      <th>total_timelen</th>\n",
       "      <th>location</th>\n",
       "      <th>tags</th>\n",
       "      <th>score</th>\n",
       "    </tr>\n",
       "  </thead>\n",
       "  <tbody>\n",
       "    <tr>\n",
       "      <td>0</td>\n",
       "      <td>00213d17d2eba917e859d882aa89ee8e</td>\n",
       "      <td>1352509103</td>\n",
       "      <td>15</td>\n",
       "      <td>20</td>\n",
       "      <td>封神英雄榜＼片头曲 神仙道张馨予</td>\n",
       "      <td>150</td>\n",
       "      <td>-</td>\n",
       "      <td>倪萍回归央视,新卷珠帘,《刘欢版》,邓紫棋林宥嘉,快乐大本营,封神英雄榜</td>\n",
       "      <td>0.100000</td>\n",
       "    </tr>\n",
       "    <tr>\n",
       "      <td>1</td>\n",
       "      <td>01d4ad980a492f39f2272dbc36ec9698</td>\n",
       "      <td>63509105</td>\n",
       "      <td>75</td>\n",
       "      <td>17</td>\n",
       "      <td>吉他弹唱教学《我真的受伤了》</td>\n",
       "      <td>744</td>\n",
       "      <td>-</td>\n",
       "      <td>我真的受伤了,弹唱,国内,吉他,教学</td>\n",
       "      <td>0.100806</td>\n",
       "    </tr>\n",
       "    <tr>\n",
       "      <td>2</td>\n",
       "      <td>00e16789fa95549730b666911908f540</td>\n",
       "      <td>63509105</td>\n",
       "      <td>195</td>\n",
       "      <td>11</td>\n",
       "      <td>吉他弹唱教学《我真的受伤了》</td>\n",
       "      <td>744</td>\n",
       "      <td>-</td>\n",
       "      <td>我真的受伤了,弹唱,国内,吉他,教学</td>\n",
       "      <td>0.262097</td>\n",
       "    </tr>\n",
       "    <tr>\n",
       "      <td>3</td>\n",
       "      <td>01359a19943d444cc75164d5133c3a65</td>\n",
       "      <td>1529509105</td>\n",
       "      <td>277</td>\n",
       "      <td>21</td>\n",
       "      <td>机械哥全新DUBSTEP舞蹈视频 BEAT IT 致敬MJ 超帅</td>\n",
       "      <td>221</td>\n",
       "      <td>-</td>\n",
       "      <td>致敬MJ,机械哥,BEAT,超帅,IT,舞蹈,DUBSTEP</td>\n",
       "      <td>1.253394</td>\n",
       "    </tr>\n",
       "    <tr>\n",
       "      <td>4</td>\n",
       "      <td>01359a19943d444cc75164d5133c3a65</td>\n",
       "      <td>1529509105</td>\n",
       "      <td>276</td>\n",
       "      <td>21</td>\n",
       "      <td>机械哥全新DUBSTEP舞蹈视频 BEAT IT 致敬MJ 超帅</td>\n",
       "      <td>221</td>\n",
       "      <td>-</td>\n",
       "      <td>致敬MJ,机械哥,BEAT,超帅,IT,舞蹈,DUBSTEP</td>\n",
       "      <td>1.248869</td>\n",
       "    </tr>\n",
       "  </tbody>\n",
       "</table>\n",
       "</div>"
      ],
      "text/plain": [
       "                            user_id     item_id  stay_seconds  hour  \\\n",
       "0  00213d17d2eba917e859d882aa89ee8e  1352509103            15    20   \n",
       "1  01d4ad980a492f39f2272dbc36ec9698    63509105            75    17   \n",
       "2  00e16789fa95549730b666911908f540    63509105           195    11   \n",
       "3  01359a19943d444cc75164d5133c3a65  1529509105           277    21   \n",
       "4  01359a19943d444cc75164d5133c3a65  1529509105           276    21   \n",
       "\n",
       "                          item_name total_timelen location  \\\n",
       "0                  封神英雄榜＼片头曲 神仙道张馨予           150        -   \n",
       "1                    吉他弹唱教学《我真的受伤了》           744        -   \n",
       "2                    吉他弹唱教学《我真的受伤了》           744        -   \n",
       "3  机械哥全新DUBSTEP舞蹈视频 BEAT IT 致敬MJ 超帅           221        -   \n",
       "4  机械哥全新DUBSTEP舞蹈视频 BEAT IT 致敬MJ 超帅           221        -   \n",
       "\n",
       "                                   tags     score  \n",
       "0  倪萍回归央视,新卷珠帘,《刘欢版》,邓紫棋林宥嘉,快乐大本营,封神英雄榜  0.100000  \n",
       "1                    我真的受伤了,弹唱,国内,吉他,教学  0.100806  \n",
       "2                    我真的受伤了,弹唱,国内,吉他,教学  0.262097  \n",
       "3        致敬MJ,机械哥,BEAT,超帅,IT,舞蹈,DUBSTEP  1.253394  \n",
       "4        致敬MJ,机械哥,BEAT,超帅,IT,舞蹈,DUBSTEP  1.248869  "
      ]
     },
     "execution_count": 46,
     "metadata": {},
     "output_type": "execute_result"
    }
   ],
   "source": [
    "# data2.head()"
   ]
  },
  {
   "cell_type": "code",
   "execution_count": 20,
   "metadata": {},
   "outputs": [],
   "source": [
    "data=data2[['user_id','item_id','score']]"
   ]
  },
  {
   "cell_type": "code",
   "execution_count": 21,
   "metadata": {},
   "outputs": [
    {
     "data": {
      "text/html": [
       "<div>\n",
       "<style scoped>\n",
       "    .dataframe tbody tr th:only-of-type {\n",
       "        vertical-align: middle;\n",
       "    }\n",
       "\n",
       "    .dataframe tbody tr th {\n",
       "        vertical-align: top;\n",
       "    }\n",
       "\n",
       "    .dataframe thead th {\n",
       "        text-align: right;\n",
       "    }\n",
       "</style>\n",
       "<table border=\"1\" class=\"dataframe\">\n",
       "  <thead>\n",
       "    <tr style=\"text-align: right;\">\n",
       "      <th></th>\n",
       "      <th>user_id</th>\n",
       "      <th>item_id</th>\n",
       "      <th>score</th>\n",
       "    </tr>\n",
       "  </thead>\n",
       "  <tbody>\n",
       "    <tr>\n",
       "      <td>0</td>\n",
       "      <td>00213d17d2eba917e859d882aa89ee8e</td>\n",
       "      <td>1352509103</td>\n",
       "      <td>0.100000</td>\n",
       "    </tr>\n",
       "    <tr>\n",
       "      <td>1</td>\n",
       "      <td>01d4ad980a492f39f2272dbc36ec9698</td>\n",
       "      <td>63509105</td>\n",
       "      <td>0.100806</td>\n",
       "    </tr>\n",
       "    <tr>\n",
       "      <td>2</td>\n",
       "      <td>00e16789fa95549730b666911908f540</td>\n",
       "      <td>63509105</td>\n",
       "      <td>0.262097</td>\n",
       "    </tr>\n",
       "    <tr>\n",
       "      <td>3</td>\n",
       "      <td>01359a19943d444cc75164d5133c3a65</td>\n",
       "      <td>1529509105</td>\n",
       "      <td>1.253394</td>\n",
       "    </tr>\n",
       "    <tr>\n",
       "      <td>4</td>\n",
       "      <td>01359a19943d444cc75164d5133c3a65</td>\n",
       "      <td>1529509105</td>\n",
       "      <td>1.248869</td>\n",
       "    </tr>\n",
       "  </tbody>\n",
       "</table>\n",
       "</div>"
      ],
      "text/plain": [
       "                            user_id     item_id     score\n",
       "0  00213d17d2eba917e859d882aa89ee8e  1352509103  0.100000\n",
       "1  01d4ad980a492f39f2272dbc36ec9698    63509105  0.100806\n",
       "2  00e16789fa95549730b666911908f540    63509105  0.262097\n",
       "3  01359a19943d444cc75164d5133c3a65  1529509105  1.253394\n",
       "4  01359a19943d444cc75164d5133c3a65  1529509105  1.248869"
      ]
     },
     "execution_count": 21,
     "metadata": {},
     "output_type": "execute_result"
    }
   ],
   "source": [
    "data.head()"
   ]
  },
  {
   "cell_type": "code",
   "execution_count": 22,
   "metadata": {},
   "outputs": [
    {
     "data": {
      "text/plain": [
       "16"
      ]
     },
     "execution_count": 22,
     "metadata": {},
     "output_type": "execute_result"
    }
   ],
   "source": [
    "data=data.groupby(['user_id','item_id'])['score'].sum().reset_index()\n",
    "len(data)"
   ]
  },
  {
   "cell_type": "code",
   "execution_count": 23,
   "metadata": {},
   "outputs": [
    {
     "data": {
      "text/html": [
       "<div>\n",
       "<style scoped>\n",
       "    .dataframe tbody tr th:only-of-type {\n",
       "        vertical-align: middle;\n",
       "    }\n",
       "\n",
       "    .dataframe tbody tr th {\n",
       "        vertical-align: top;\n",
       "    }\n",
       "\n",
       "    .dataframe thead th {\n",
       "        text-align: right;\n",
       "    }\n",
       "</style>\n",
       "<table border=\"1\" class=\"dataframe\">\n",
       "  <thead>\n",
       "    <tr style=\"text-align: right;\">\n",
       "      <th></th>\n",
       "      <th>user_id</th>\n",
       "      <th>item_id</th>\n",
       "      <th>score</th>\n",
       "    </tr>\n",
       "  </thead>\n",
       "  <tbody>\n",
       "    <tr>\n",
       "      <td>0</td>\n",
       "      <td>00213d17d2eba917e859d882aa89ee8e</td>\n",
       "      <td>1352509103</td>\n",
       "      <td>0.100000</td>\n",
       "    </tr>\n",
       "    <tr>\n",
       "      <td>1</td>\n",
       "      <td>0029b6161dbb1b8721f5f6ad1d7594b6</td>\n",
       "      <td>1148909108</td>\n",
       "      <td>1.959016</td>\n",
       "    </tr>\n",
       "    <tr>\n",
       "      <td>2</td>\n",
       "      <td>0076a2dda04e1ee05ab2fb792297bf2b</td>\n",
       "      <td>1148909108</td>\n",
       "      <td>0.614754</td>\n",
       "    </tr>\n",
       "    <tr>\n",
       "      <td>3</td>\n",
       "      <td>0088a6fc0d8c03ec5b2513a984ce9a1e</td>\n",
       "      <td>1148909108</td>\n",
       "      <td>1.024590</td>\n",
       "    </tr>\n",
       "    <tr>\n",
       "      <td>4</td>\n",
       "      <td>00a43691f12565b801241743556417ab</td>\n",
       "      <td>839709106</td>\n",
       "      <td>0.054152</td>\n",
       "    </tr>\n",
       "  </tbody>\n",
       "</table>\n",
       "</div>"
      ],
      "text/plain": [
       "                            user_id     item_id     score\n",
       "0  00213d17d2eba917e859d882aa89ee8e  1352509103  0.100000\n",
       "1  0029b6161dbb1b8721f5f6ad1d7594b6  1148909108  1.959016\n",
       "2  0076a2dda04e1ee05ab2fb792297bf2b  1148909108  0.614754\n",
       "3  0088a6fc0d8c03ec5b2513a984ce9a1e  1148909108  1.024590\n",
       "4  00a43691f12565b801241743556417ab   839709106  0.054152"
      ]
     },
     "execution_count": 23,
     "metadata": {},
     "output_type": "execute_result"
    }
   ],
   "source": [
    "data.head()"
   ]
  },
  {
   "cell_type": "code",
   "execution_count": 24,
   "metadata": {},
   "outputs": [],
   "source": [
    "def train_from_df(df,cols=['user_id','item_id','score']):\n",
    "    res=dict()\n",
    "    for _,row in df.iterrows():\n",
    "        user_id=row[cols[0]]\n",
    "        item_id=row[cols[1]]\n",
    "        score=row[cols[2]]\n",
    "        if res.get(user_id,-1)==-1:\n",
    "            res[user_id]={item_id:score}\n",
    "        else:\n",
    "            res[user_id][item_id]=score\n",
    "    return res"
   ]
  },
  {
   "cell_type": "code",
   "execution_count": 25,
   "metadata": {},
   "outputs": [],
   "source": [
    "train=train_from_df(data)"
   ]
  },
  {
   "cell_type": "code",
   "execution_count": 26,
   "metadata": {},
   "outputs": [
    {
     "ename": "AttributeError",
     "evalue": "'dict' object has no attribute 'head'",
     "output_type": "error",
     "traceback": [
      "\u001b[1;31m---------------------------------------------------------------------------\u001b[0m",
      "\u001b[1;31mAttributeError\u001b[0m                            Traceback (most recent call last)",
      "\u001b[1;32m<ipython-input-26-3b77fa18a747>\u001b[0m in \u001b[0;36m<module>\u001b[1;34m\u001b[0m\n\u001b[1;32m----> 1\u001b[1;33m \u001b[0mtrain\u001b[0m\u001b[1;33m.\u001b[0m\u001b[0mhead\u001b[0m\u001b[1;33m(\u001b[0m\u001b[1;33m)\u001b[0m\u001b[1;33m\u001b[0m\u001b[1;33m\u001b[0m\u001b[0m\n\u001b[0m",
      "\u001b[1;31mAttributeError\u001b[0m: 'dict' object has no attribute 'head'"
     ]
    }
   ],
   "source": [
    "# train.head()"
   ]
  },
  {
   "cell_type": "code",
   "execution_count": 27,
   "metadata": {},
   "outputs": [
    {
     "name": "stdout",
     "output_type": "stream",
     "text": [
      "{'00213d17d2eba917e859d882aa89ee8e': {1352509103: 0.1}, '0029b6161dbb1b8721f5f6ad1d7594b6': {1148909108: 1.959016393442623}, '0076a2dda04e1ee05ab2fb792297bf2b': {1148909108: 0.6147540983606558}, '0088a6fc0d8c03ec5b2513a984ce9a1e': {1148909108: 1.0245901639344261}, '00a43691f12565b801241743556417ab': {839709106: 0.05415162454873646}, '00e16789fa95549730b666911908f540': {63509105: 0.2620967741935484}, '00ed7cd778e08c7551731988e73e419e': {463509109: 1.2995780590717299}, '01359a19943d444cc75164d5133c3a65': {1529509105: 2.502262443438914}, '014ad23bd34b4131e822c9cfba02ecce': {1973309108: 0.06521739130434782}, '0161e575a9992d5393ee578b45f3b1a7': {963209107: 1.2162162162162162}, '017d61f43565734e85ca6c652e6dd06f': {463509109: 1.3037974683544304}, '01903b3114c70a109aea3934297ea6ef': {1148909108: 0.6147540983606558}, '01c1ef0570a4d56b900a23b255dfc658': {463509109: 0.8227848101265823}, '01d4ad980a492f39f2272dbc36ec9698': {63509105: 0.10080645161290322}, '01eb724c80739c41018dc5db9db28ead': {1678509106: 0.2830188679245283}, '01ed205aebdc4b32bd156075668d541a': {963209107: 1.2132132132132132}}\n"
     ]
    }
   ],
   "source": [
    "print(train)"
   ]
  },
  {
   "cell_type": "code",
   "execution_count": 28,
   "metadata": {},
   "outputs": [
    {
     "name": "stdout",
     "output_type": "stream",
     "text": [
      "1\n",
      "1\n",
      "1\n",
      "1\n",
      "1\n",
      "1\n",
      "1\n",
      "1\n",
      "1\n",
      "1\n",
      "1\n",
      "1\n",
      "1\n",
      "1\n",
      "1\n",
      "1\n"
     ]
    }
   ],
   "source": [
    "for k,v in train.items():\n",
    "    print(len(v))\n",
    "#     if len(v)>1:\n",
    "#         print(train[k])"
   ]
  },
  {
   "cell_type": "code",
   "execution_count": 29,
   "metadata": {},
   "outputs": [
    {
     "name": "stdout",
     "output_type": "stream",
     "text": [
      "16\n"
     ]
    }
   ],
   "source": [
    "print(len(train))"
   ]
  },
  {
   "cell_type": "code",
   "execution_count": 30,
   "metadata": {},
   "outputs": [
    {
     "name": "stdout",
     "output_type": "stream",
     "text": [
      "17\n"
     ]
    }
   ],
   "source": [
    "print(len(data2))"
   ]
  },
  {
   "cell_type": "code",
   "execution_count": 31,
   "metadata": {},
   "outputs": [],
   "source": [
    "music_mid_data_path = \"data/music_mid_data\""
   ]
  },
  {
   "cell_type": "code",
   "execution_count": 32,
   "metadata": {},
   "outputs": [],
   "source": [
    "train_file = '%s/train_dict.txt' % music_mid_data_path"
   ]
  },
  {
   "cell_type": "code",
   "execution_count": 33,
   "metadata": {},
   "outputs": [
    {
     "name": "stdout",
     "output_type": "stream",
     "text": [
      "data/music_mid_data/train_dict.txt\n"
     ]
    }
   ],
   "source": [
    "print(train_file)"
   ]
  },
  {
   "cell_type": "code",
   "execution_count": 36,
   "metadata": {},
   "outputs": [],
   "source": [
    "os.makedirs('data/music_mid_data')\n",
    "with open(train_file,'w',encoding='utf-8') as f:\n",
    "    f.write(str(train))"
   ]
  },
  {
   "cell_type": "code",
   "execution_count": 37,
   "metadata": {},
   "outputs": [],
   "source": [
    "# 不同召回策略标识\n",
    "UCF_PREFIX = 'UCF_'\n",
    "ICF_PREFIX = 'ICF_'"
   ]
  },
  {
   "cell_type": "code",
   "execution_count": 38,
   "metadata": {},
   "outputs": [],
   "source": [
    "cf_rec_lst_outfile = '%s/reclst.dict' % music_mid_data_path"
   ]
  },
  {
   "cell_type": "code",
   "execution_count": 39,
   "metadata": {},
   "outputs": [],
   "source": [
    "reclst = dict()"
   ]
  },
  {
   "cell_type": "code",
   "execution_count": 40,
   "metadata": {},
   "outputs": [],
   "source": [
    "def user_sim(train_data):\n",
    "    # 建立item->users的倒排表\n",
    "    item_users = dict()\n",
    "    for u, items in train_data.items():  # items item,rating\n",
    "        for i in items.keys():\n",
    "            if item_users.get(i, -1) == -1:\n",
    "                item_users[i] = set()\n",
    "            item_users[i].add(u)\n",
    "\n",
    "    # 计算共同的items数量\n",
    "    C = dict()\n",
    "\n",
    "    for i, users in item_users.items():\n",
    "        for u in users:\n",
    "            if C.get(u, -1) == -1:\n",
    "                C[u] = dict()\n",
    "            for v in users:\n",
    "                if u == v:\n",
    "                    continue\n",
    "                if C[u].get(v, -1) == -1:\n",
    "                        C[u][v] = 0\n",
    "                C[u][v] += 1\n",
    "    del item_users  # 从内存中删除\n",
    "    for u,sim_users in C.items():\n",
    "        for v,cuv in sim_users.items():\n",
    "            C[u][v] = 2*C[u][v]/(float(len(train_data[u])+len(train_data[v])))\n",
    "    return C"
   ]
  },
  {
   "cell_type": "code",
   "execution_count": 49,
   "metadata": {},
   "outputs": [],
   "source": [
    "user_user_sim = user_sim(train)"
   ]
  },
  {
   "cell_type": "code",
   "execution_count": 50,
   "metadata": {},
   "outputs": [
    {
     "name": "stdout",
     "output_type": "stream",
     "text": [
      "{'01903b3114c70a109aea3934297ea6ef': 1.0, '0029b6161dbb1b8721f5f6ad1d7594b6': 1.0, '0088a6fc0d8c03ec5b2513a984ce9a1e': 1.0}\n"
     ]
    }
   ],
   "source": [
    "print(user_user_sim['0076a2dda04e1ee05ab2fb792297bf2b'])"
   ]
  },
  {
   "cell_type": "code",
   "execution_count": 46,
   "metadata": {},
   "outputs": [],
   "source": [
    "user_user_sim_file = '%s/sim_data/uu.sim' % music_mid_data_path"
   ]
  },
  {
   "cell_type": "code",
   "execution_count": 47,
   "metadata": {},
   "outputs": [],
   "source": [
    "with open(train_file,'r',encoding='utf-8') as f:\n",
    "    train=eval(f.read())"
   ]
  },
  {
   "cell_type": "code",
   "execution_count": 48,
   "metadata": {},
   "outputs": [
    {
     "ename": "AttributeError",
     "evalue": "'dict' object has no attribute 'head'",
     "output_type": "error",
     "traceback": [
      "\u001b[1;31m---------------------------------------------------------------------------\u001b[0m",
      "\u001b[1;31mAttributeError\u001b[0m                            Traceback (most recent call last)",
      "\u001b[1;32m<ipython-input-48-3b77fa18a747>\u001b[0m in \u001b[0;36m<module>\u001b[1;34m\u001b[0m\n\u001b[1;32m----> 1\u001b[1;33m \u001b[0mtrain\u001b[0m\u001b[1;33m.\u001b[0m\u001b[0mhead\u001b[0m\u001b[1;33m(\u001b[0m\u001b[1;33m)\u001b[0m\u001b[1;33m\u001b[0m\u001b[1;33m\u001b[0m\u001b[0m\n\u001b[0m",
      "\u001b[1;31mAttributeError\u001b[0m: 'dict' object has no attribute 'head'"
     ]
    }
   ],
   "source": [
    "# train.head()"
   ]
  },
  {
   "cell_type": "code",
   "execution_count": 57,
   "metadata": {},
   "outputs": [],
   "source": [
    "os.mkdir('data/music_mid_data/sim_data')\n",
    "with open(user_user_sim_file,'w',encoding='utf-8') as f :\n",
    "    \n",
    "    f.write(str(user_user_sim))"
   ]
  },
  {
   "cell_type": "code",
   "execution_count": 52,
   "metadata": {},
   "outputs": [
    {
     "data": {
      "text/plain": [
       "'data/music_mid_data/sim_data'"
      ]
     },
     "execution_count": 52,
     "metadata": {},
     "output_type": "execute_result"
    }
   ],
   "source": [
    "os.path.dirname(user_user_sim_file)"
   ]
  },
  {
   "cell_type": "code",
   "execution_count": 58,
   "metadata": {},
   "outputs": [
    {
     "data": {
      "text/plain": [
       "21258"
      ]
     },
     "execution_count": 58,
     "metadata": {},
     "output_type": "execute_result"
    }
   ],
   "source": [
    "len(train)"
   ]
  },
  {
   "cell_type": "code",
   "execution_count": 59,
   "metadata": {},
   "outputs": [],
   "source": [
    "def recommend(user,train_data,C,k=5):\n",
    "    rank = dict()\n",
    "    # 用户之前评论过的电影\n",
    "    watched_items = train_data[user].keys()\n",
    "    # 取相似的k个用户的items\n",
    "    for v,cuv in sorted(C[user].items(),key=lambda x:x[1],reverse=True)[:k]:\n",
    "        # 取相似k个用户的items ②rating\n",
    "        for i,rating in train_data[v].items():\n",
    "            # 过滤掉已经评论过的电影（购买过的商品）\n",
    "            if i in watched_items:\n",
    "                continue\n",
    "            elif rank.get(i,-1) == -1:\n",
    "                rank[i] = 0\n",
    "            # 物品的打分是①用户相似度[0-1]*②相似用户对电影的打分[0-5]=[0-1]\n",
    "            # 相似用户评论了同一个物品是累加操作\n",
    "            rank[i] += cuv * rating\n",
    "    return rank"
   ]
  },
  {
   "cell_type": "code",
   "execution_count": 60,
   "metadata": {},
   "outputs": [],
   "source": [
    "for user_id in train.keys():\n",
    "    rec_item_list=recommend(user_id,train,user_user_sim,10)\n",
    "    user_id=UCF_PREFIX+user_id\n",
    "    reclst[user_id]=sorted(rec_item_list.items(),key=lambda x:x[1],reverse=True)[0:20]"
   ]
  },
  {
   "cell_type": "code",
   "execution_count": 61,
   "metadata": {},
   "outputs": [
    {
     "data": {
      "text/plain": [
       "21258"
      ]
     },
     "execution_count": 61,
     "metadata": {},
     "output_type": "execute_result"
    }
   ],
   "source": [
    "len(reclst)"
   ]
  },
  {
   "cell_type": "code",
   "execution_count": 62,
   "metadata": {},
   "outputs": [],
   "source": [
    "del user_user_sim"
   ]
  },
  {
   "cell_type": "code",
   "execution_count": 63,
   "metadata": {},
   "outputs": [],
   "source": [
    "def item_sim(train_data):\n",
    "    # 相似物品矩阵\n",
    "    C = dict()  # {item:{item1:sim_score,item2:sim_score}}\n",
    "    N = dict()  # {item:用户数}\n",
    "    # 扫一遍数据集，统计相似物品矩阵的分子部分C，和统计item拥有的user dict N\n",
    "    for u, items in train_data.items():\n",
    "        for i in items:\n",
    "            # item拥有多个用户\n",
    "            if N.get(i, -1) == -1:\n",
    "                # N[i] = 0\n",
    "                N[i] = set()\n",
    "            # N[i] += 1\n",
    "            N[i].add(u)\n",
    "            if C.get(i, -1) == -1:\n",
    "                C[i] = dict()\n",
    "            for j in items:\n",
    "                if i == j:\n",
    "                    continue\n",
    "                elif C[i].get(j, -1) == -1:\n",
    "                    C[i][j] = 0\n",
    "                C[i][j] += 1\n",
    "\n",
    "    # 扫一遍相似物品矩阵C，将分母除进去\n",
    "    for i, sim_items in C.items():\n",
    "        for j, cij in sim_items.items():\n",
    "            # C[i][j]= 2*cij/(N[i]+N[j]*1.0)\n",
    "            C[i][j] = cij / len(N[i] | N[j])\n",
    "    return C"
   ]
  },
  {
   "cell_type": "code",
   "execution_count": 64,
   "metadata": {},
   "outputs": [],
   "source": [
    "item_item_sim=item_sim(train)"
   ]
  },
  {
   "cell_type": "code",
   "execution_count": 65,
   "metadata": {},
   "outputs": [
    {
     "data": {
      "text/plain": [
       "4636"
      ]
     },
     "execution_count": 65,
     "metadata": {},
     "output_type": "execute_result"
    }
   ],
   "source": [
    "len(item_item_sim)"
   ]
  },
  {
   "cell_type": "code",
   "execution_count": 66,
   "metadata": {},
   "outputs": [],
   "source": [
    "item_item_sim_file = '%s/sim_data/ii.sim' % music_mid_data_path"
   ]
  },
  {
   "cell_type": "code",
   "execution_count": 67,
   "metadata": {},
   "outputs": [],
   "source": [
    "with open(item_item_sim_file, 'w') as ifw:\n",
    "    ifw.write(str(item_item_sim))"
   ]
  },
  {
   "cell_type": "code",
   "execution_count": 71,
   "metadata": {},
   "outputs": [
    {
     "name": "stdout",
     "output_type": "stream",
     "text": [
      "{'426100349': 1.28}\n"
     ]
    }
   ],
   "source": [
    "print(train['0000066b1be6f28ad5e40d47b8d3e51c'])\n",
    "def recommendation(train_data, user_id, C, k):\n",
    "    # 存放最终结果\n",
    "    rank = dict()\n",
    "    sum_ = dict()\n",
    "    Ru = train_data[user_id]\n",
    "    for i, rating in Ru.items():\n",
    "        # rating = rating_old*func(time)\n",
    "        for j, sim_score in sorted(C[i].items(), key=lambda x: x[1], reverse=True)[:k]:\n",
    "            # 过滤这个user已经打过分的item\n",
    "            if j in Ru:\n",
    "                continue\n",
    "            elif rank.get(j, -1) == -1:\n",
    "                rank[j] = 0\n",
    "\n",
    "            # Ru中item1相似的集合和item2相似的集合中有相同的item，是分值相加形式\n",
    "            rank[j] += sim_score * rating\n",
    "            # sum|cij| 对应ppt sum(|wij|),只有在相同的itemj，不同的itemi进行ppt中多值相加\n",
    "            if sum_.get(j,-1)==-1:\n",
    "                sum_[j] = 0\n",
    "            sum_[j] += sim_score\n",
    "    for j in rank.keys():\n",
    "        rank[j] /= sum_[j]\n",
    "    return rank\n"
   ]
  },
  {
   "cell_type": "code",
   "execution_count": 72,
   "metadata": {},
   "outputs": [],
   "source": [
    "for user_id in train.keys():\n",
    "    rec_item = recommendation(train,user_id,C=item_item_sim,k=10)\n",
    "    user_id = ICF_PREFIX + user_id\n",
    "    reclst[user_id] = sorted(rec_item.items(),\n",
    "                             key=lambda x: x[1],\n",
    "                             reverse=True)[0:20]"
   ]
  },
  {
   "cell_type": "code",
   "execution_count": 73,
   "metadata": {},
   "outputs": [
    {
     "data": {
      "text/plain": [
       "[('913000347', 1.28),\n",
       " ('425900349', 1.28),\n",
       " ('428800349', 1.28),\n",
       " ('902500334', 1.28),\n",
       " ('718800244', 1.28),\n",
       " ('798800211', 1.28),\n",
       " ('768309470', 1.28),\n",
       " ('63800226', 1.28),\n",
       " ('231700321', 1.28),\n",
       " ('1494409116', 1.28)]"
      ]
     },
     "execution_count": 73,
     "metadata": {},
     "output_type": "execute_result"
    }
   ],
   "source": [
    "reclst[ICF_PREFIX+'0000066b1be6f28ad5e40d47b8d3e51c']"
   ]
  },
  {
   "cell_type": "code",
   "execution_count": 74,
   "metadata": {},
   "outputs": [],
   "source": [
    "del item_item_sim"
   ]
  },
  {
   "cell_type": "code",
   "execution_count": 75,
   "metadata": {},
   "outputs": [],
   "source": [
    "with open(cf_rec_lst_outfile,'w',encoding='utf-8') as wcf:\n",
    "    wcf.write(str(reclst))"
   ]
  },
  {
   "cell_type": "code",
   "execution_count": 76,
   "metadata": {},
   "outputs": [
    {
     "data": {
      "text/html": [
       "<div>\n",
       "<style scoped>\n",
       "    .dataframe tbody tr th:only-of-type {\n",
       "        vertical-align: middle;\n",
       "    }\n",
       "\n",
       "    .dataframe tbody tr th {\n",
       "        vertical-align: top;\n",
       "    }\n",
       "\n",
       "    .dataframe thead th {\n",
       "        text-align: right;\n",
       "    }\n",
       "</style>\n",
       "<table border=\"1\" class=\"dataframe\">\n",
       "  <thead>\n",
       "    <tr style=\"text-align: right;\">\n",
       "      <th></th>\n",
       "      <th>user_id</th>\n",
       "      <th>item_id</th>\n",
       "      <th>score</th>\n",
       "    </tr>\n",
       "  </thead>\n",
       "  <tbody>\n",
       "    <tr>\n",
       "      <td>0</td>\n",
       "      <td>00213d17d2eba917e859d882aa89ee8e</td>\n",
       "      <td>1352509103</td>\n",
       "      <td>0.100000</td>\n",
       "    </tr>\n",
       "    <tr>\n",
       "      <td>1</td>\n",
       "      <td>0029b6161dbb1b8721f5f6ad1d7594b6</td>\n",
       "      <td>1148909108</td>\n",
       "      <td>1.959016</td>\n",
       "    </tr>\n",
       "    <tr>\n",
       "      <td>2</td>\n",
       "      <td>0076a2dda04e1ee05ab2fb792297bf2b</td>\n",
       "      <td>1148909108</td>\n",
       "      <td>0.614754</td>\n",
       "    </tr>\n",
       "    <tr>\n",
       "      <td>3</td>\n",
       "      <td>0088a6fc0d8c03ec5b2513a984ce9a1e</td>\n",
       "      <td>1148909108</td>\n",
       "      <td>1.024590</td>\n",
       "    </tr>\n",
       "    <tr>\n",
       "      <td>4</td>\n",
       "      <td>00a43691f12565b801241743556417ab</td>\n",
       "      <td>839709106</td>\n",
       "      <td>0.054152</td>\n",
       "    </tr>\n",
       "    <tr>\n",
       "      <td>5</td>\n",
       "      <td>00e16789fa95549730b666911908f540</td>\n",
       "      <td>63509105</td>\n",
       "      <td>0.262097</td>\n",
       "    </tr>\n",
       "    <tr>\n",
       "      <td>6</td>\n",
       "      <td>00ed7cd778e08c7551731988e73e419e</td>\n",
       "      <td>463509109</td>\n",
       "      <td>1.299578</td>\n",
       "    </tr>\n",
       "    <tr>\n",
       "      <td>7</td>\n",
       "      <td>01359a19943d444cc75164d5133c3a65</td>\n",
       "      <td>1529509105</td>\n",
       "      <td>2.502262</td>\n",
       "    </tr>\n",
       "    <tr>\n",
       "      <td>8</td>\n",
       "      <td>014ad23bd34b4131e822c9cfba02ecce</td>\n",
       "      <td>1973309108</td>\n",
       "      <td>0.065217</td>\n",
       "    </tr>\n",
       "    <tr>\n",
       "      <td>9</td>\n",
       "      <td>0161e575a9992d5393ee578b45f3b1a7</td>\n",
       "      <td>963209107</td>\n",
       "      <td>1.216216</td>\n",
       "    </tr>\n",
       "    <tr>\n",
       "      <td>10</td>\n",
       "      <td>017d61f43565734e85ca6c652e6dd06f</td>\n",
       "      <td>463509109</td>\n",
       "      <td>1.303797</td>\n",
       "    </tr>\n",
       "    <tr>\n",
       "      <td>11</td>\n",
       "      <td>01903b3114c70a109aea3934297ea6ef</td>\n",
       "      <td>1148909108</td>\n",
       "      <td>0.614754</td>\n",
       "    </tr>\n",
       "    <tr>\n",
       "      <td>12</td>\n",
       "      <td>01c1ef0570a4d56b900a23b255dfc658</td>\n",
       "      <td>463509109</td>\n",
       "      <td>0.822785</td>\n",
       "    </tr>\n",
       "    <tr>\n",
       "      <td>13</td>\n",
       "      <td>01d4ad980a492f39f2272dbc36ec9698</td>\n",
       "      <td>63509105</td>\n",
       "      <td>0.100806</td>\n",
       "    </tr>\n",
       "    <tr>\n",
       "      <td>14</td>\n",
       "      <td>01eb724c80739c41018dc5db9db28ead</td>\n",
       "      <td>1678509106</td>\n",
       "      <td>0.283019</td>\n",
       "    </tr>\n",
       "    <tr>\n",
       "      <td>15</td>\n",
       "      <td>01ed205aebdc4b32bd156075668d541a</td>\n",
       "      <td>963209107</td>\n",
       "      <td>1.213213</td>\n",
       "    </tr>\n",
       "  </tbody>\n",
       "</table>\n",
       "</div>"
      ],
      "text/plain": [
       "                             user_id     item_id     score\n",
       "0   00213d17d2eba917e859d882aa89ee8e  1352509103  0.100000\n",
       "1   0029b6161dbb1b8721f5f6ad1d7594b6  1148909108  1.959016\n",
       "2   0076a2dda04e1ee05ab2fb792297bf2b  1148909108  0.614754\n",
       "3   0088a6fc0d8c03ec5b2513a984ce9a1e  1148909108  1.024590\n",
       "4   00a43691f12565b801241743556417ab   839709106  0.054152\n",
       "5   00e16789fa95549730b666911908f540    63509105  0.262097\n",
       "6   00ed7cd778e08c7551731988e73e419e   463509109  1.299578\n",
       "7   01359a19943d444cc75164d5133c3a65  1529509105  2.502262\n",
       "8   014ad23bd34b4131e822c9cfba02ecce  1973309108  0.065217\n",
       "9   0161e575a9992d5393ee578b45f3b1a7   963209107  1.216216\n",
       "10  017d61f43565734e85ca6c652e6dd06f   463509109  1.303797\n",
       "11  01903b3114c70a109aea3934297ea6ef  1148909108  0.614754\n",
       "12  01c1ef0570a4d56b900a23b255dfc658   463509109  0.822785\n",
       "13  01d4ad980a492f39f2272dbc36ec9698    63509105  0.100806\n",
       "14  01eb724c80739c41018dc5db9db28ead  1678509106  0.283019\n",
       "15  01ed205aebdc4b32bd156075668d541a   963209107  1.213213"
      ]
     },
     "execution_count": 76,
     "metadata": {},
     "output_type": "execute_result"
    }
   ],
   "source": [
    "data\n"
   ]
  },
  {
   "cell_type": "code",
   "execution_count": 78,
   "metadata": {},
   "outputs": [
    {
     "data": {
      "text/plain": [
       "17"
      ]
     },
     "execution_count": 78,
     "metadata": {},
     "output_type": "execute_result"
    }
   ],
   "source": [
    "len(data2)"
   ]
  },
  {
   "cell_type": "code",
   "execution_count": 79,
   "metadata": {},
   "outputs": [
    {
     "data": {
      "text/plain": [
       "{'1352509103': 0.1}"
      ]
     },
     "execution_count": 79,
     "metadata": {},
     "output_type": "execute_result"
    }
   ],
   "source": [
    "train['00213d17d2eba917e859d882aa89ee8e']"
   ]
  },
  {
   "cell_type": "code",
   "execution_count": 80,
   "metadata": {},
   "outputs": [
    {
     "data": {
      "text/plain": [
       "21258"
      ]
     },
     "execution_count": 80,
     "metadata": {},
     "output_type": "execute_result"
    }
   ],
   "source": [
    "len(train)"
   ]
  },
  {
   "cell_type": "code",
   "execution_count": 81,
   "metadata": {},
   "outputs": [],
   "source": [
    "del data\n",
    "del data2"
   ]
  },
  {
   "cell_type": "code",
   "execution_count": 82,
   "metadata": {},
   "outputs": [],
   "source": [
    "data=train"
   ]
  },
  {
   "cell_type": "code",
   "execution_count": 83,
   "metadata": {},
   "outputs": [
    {
     "ename": "KeyError",
     "evalue": "'score'",
     "output_type": "error",
     "traceback": [
      "\u001b[1;31m---------------------------------------------------------------------------\u001b[0m",
      "\u001b[1;31mKeyError\u001b[0m                                  Traceback (most recent call last)",
      "\u001b[1;32m<ipython-input-83-0019e9f918d0>\u001b[0m in \u001b[0;36m<module>\u001b[1;34m\u001b[0m\n\u001b[1;32m----> 1\u001b[1;33m \u001b[0mdata\u001b[0m\u001b[1;33m[\u001b[0m\u001b[1;34m'label'\u001b[0m\u001b[1;33m]\u001b[0m \u001b[1;33m=\u001b[0m \u001b[0mdata\u001b[0m\u001b[1;33m[\u001b[0m\u001b[1;34m'score'\u001b[0m\u001b[1;33m]\u001b[0m\u001b[1;33m.\u001b[0m\u001b[0mapply\u001b[0m\u001b[1;33m(\u001b[0m\u001b[1;32mlambda\u001b[0m \u001b[0mx\u001b[0m\u001b[1;33m:\u001b[0m \u001b[1;36m1\u001b[0m \u001b[1;32mif\u001b[0m \u001b[0mx\u001b[0m \u001b[1;33m>=\u001b[0m \u001b[1;36m0.9\u001b[0m \u001b[1;32melse\u001b[0m \u001b[1;36m0\u001b[0m\u001b[1;33m)\u001b[0m\u001b[1;33m\u001b[0m\u001b[1;33m\u001b[0m\u001b[0m\n\u001b[0m",
      "\u001b[1;31mKeyError\u001b[0m: 'score'"
     ]
    }
   ],
   "source": [
    "data['label'] = data['score'].apply(lambda x: 1 if x >= 0.9 else 0)"
   ]
  },
  {
   "cell_type": "code",
   "execution_count": 84,
   "metadata": {},
   "outputs": [],
   "source": [
    "del data"
   ]
  },
  {
   "cell_type": "code",
   "execution_count": 85,
   "metadata": {},
   "outputs": [
    {
     "ename": "NameError",
     "evalue": "name 'user_item_score' is not defined",
     "output_type": "error",
     "traceback": [
      "\u001b[1;31m---------------------------------------------------------------------------\u001b[0m",
      "\u001b[1;31mNameError\u001b[0m                                 Traceback (most recent call last)",
      "\u001b[1;32m<ipython-input-85-962e619e7d19>\u001b[0m in \u001b[0;36m<module>\u001b[1;34m\u001b[0m\n\u001b[1;32m----> 1\u001b[1;33m \u001b[0mdata\u001b[0m \u001b[1;33m=\u001b[0m \u001b[0muser_item_score\u001b[0m\u001b[1;33m(\u001b[0m\u001b[1;36m50000\u001b[0m\u001b[1;33m)\u001b[0m\u001b[1;33m\u001b[0m\u001b[1;33m\u001b[0m\u001b[0m\n\u001b[0m",
      "\u001b[1;31mNameError\u001b[0m: name 'user_item_score' is not defined"
     ]
    }
   ],
   "source": [
    "data = user_item_score(50000)"
   ]
  },
  {
   "cell_type": "code",
   "execution_count": 86,
   "metadata": {},
   "outputs": [],
   "source": [
    "df_user_watch = user_watch(50000)"
   ]
  },
  {
   "cell_type": "code",
   "execution_count": 89,
   "metadata": {},
   "outputs": [],
   "source": [
    "df_music_meta = music_data2()"
   ]
  },
  {
   "cell_type": "code",
   "execution_count": 88,
   "metadata": {},
   "outputs": [],
   "source": [
    "# del df_music_meta"
   ]
  },
  {
   "cell_type": "code",
   "execution_count": 90,
   "metadata": {},
   "outputs": [],
   "source": [
    "data = df_user_watch.merge(df_music_meta, how='inner', on='item_id')"
   ]
  },
  {
   "cell_type": "code",
   "execution_count": 91,
   "metadata": {},
   "outputs": [],
   "source": [
    "data['score'] = data.apply(lambda x: float(x['stay_seconds']) / float(x['total_timelen']), axis=1)\n",
    "    # 选要使用的列，和udata数据类型一致\n",
    "data = data[['user_id', 'item_id', 'score']]"
   ]
  },
  {
   "cell_type": "code",
   "execution_count": 95,
   "metadata": {},
   "outputs": [
    {
     "data": {
      "text/html": [
       "<div>\n",
       "<style scoped>\n",
       "    .dataframe tbody tr th:only-of-type {\n",
       "        vertical-align: middle;\n",
       "    }\n",
       "\n",
       "    .dataframe tbody tr th {\n",
       "        vertical-align: top;\n",
       "    }\n",
       "\n",
       "    .dataframe thead th {\n",
       "        text-align: right;\n",
       "    }\n",
       "</style>\n",
       "<table border=\"1\" class=\"dataframe\">\n",
       "  <thead>\n",
       "    <tr style=\"text-align: right;\">\n",
       "      <th></th>\n",
       "      <th>user_id</th>\n",
       "      <th>item_id</th>\n",
       "      <th>score</th>\n",
       "      <th>label</th>\n",
       "    </tr>\n",
       "  </thead>\n",
       "  <tbody>\n",
       "    <tr>\n",
       "      <td>0</td>\n",
       "      <td>0000066b1be6f28ad5e40d47b8d3e51c</td>\n",
       "      <td>426100349</td>\n",
       "      <td>1.280000</td>\n",
       "      <td>1</td>\n",
       "    </tr>\n",
       "    <tr>\n",
       "      <td>1</td>\n",
       "      <td>00000cce929ed4de96d2cb6bbf956c53</td>\n",
       "      <td>251400320</td>\n",
       "      <td>1.025785</td>\n",
       "      <td>1</td>\n",
       "    </tr>\n",
       "    <tr>\n",
       "      <td>2</td>\n",
       "      <td>00000f7383b4ddb4885c7ef81b483e27</td>\n",
       "      <td>711800352</td>\n",
       "      <td>0.517241</td>\n",
       "      <td>0</td>\n",
       "    </tr>\n",
       "    <tr>\n",
       "      <td>3</td>\n",
       "      <td>00001fc17f67602470571d231a76176e</td>\n",
       "      <td>780800217</td>\n",
       "      <td>0.503356</td>\n",
       "      <td>0</td>\n",
       "    </tr>\n",
       "    <tr>\n",
       "      <td>4</td>\n",
       "      <td>00002169235f84675d0df3f2c8dfd78c</td>\n",
       "      <td>517009772</td>\n",
       "      <td>1.700000</td>\n",
       "      <td>1</td>\n",
       "    </tr>\n",
       "  </tbody>\n",
       "</table>\n",
       "</div>"
      ],
      "text/plain": [
       "                            user_id    item_id     score  label\n",
       "0  0000066b1be6f28ad5e40d47b8d3e51c  426100349  1.280000      1\n",
       "1  00000cce929ed4de96d2cb6bbf956c53  251400320  1.025785      1\n",
       "2  00000f7383b4ddb4885c7ef81b483e27  711800352  0.517241      0\n",
       "3  00001fc17f67602470571d231a76176e  780800217  0.503356      0\n",
       "4  00002169235f84675d0df3f2c8dfd78c  517009772  1.700000      1"
      ]
     },
     "execution_count": 95,
     "metadata": {},
     "output_type": "execute_result"
    }
   ],
   "source": [
    "data.head()"
   ]
  },
  {
   "cell_type": "code",
   "execution_count": 93,
   "metadata": {},
   "outputs": [],
   "source": [
    "data = data.groupby(['user_id', 'item_id']).score.mean().reset_index()"
   ]
  },
  {
   "cell_type": "code",
   "execution_count": 94,
   "metadata": {},
   "outputs": [],
   "source": [
    "data['label'] = data['score'].apply(lambda x: 1 if x >= 0.9 else 0)"
   ]
  },
  {
   "cell_type": "code",
   "execution_count": 97,
   "metadata": {},
   "outputs": [],
   "source": [
    "ana = data.groupby('label')['score'].count()"
   ]
  },
  {
   "cell_type": "code",
   "execution_count": 98,
   "metadata": {},
   "outputs": [
    {
     "data": {
      "text/plain": [
       "label\n",
       "0    12518\n",
       "1    17560\n",
       "Name: score, dtype: int64"
      ]
     },
     "execution_count": 98,
     "metadata": {},
     "output_type": "execute_result"
    }
   ],
   "source": [
    "ana.head()"
   ]
  },
  {
   "cell_type": "code",
   "execution_count": 99,
   "metadata": {},
   "outputs": [],
   "source": [
    "ana2 = data.groupby('label')['score'].sum()"
   ]
  },
  {
   "cell_type": "code",
   "execution_count": 100,
   "metadata": {},
   "outputs": [
    {
     "data": {
      "text/plain": [
       "label\n",
       "0     4412.354622\n",
       "1    22466.031567\n",
       "Name: score, dtype: float64"
      ]
     },
     "execution_count": 100,
     "metadata": {},
     "output_type": "execute_result"
    }
   ],
   "source": [
    "ana2.head()"
   ]
  },
  {
   "cell_type": "code",
   "execution_count": 101,
   "metadata": {},
   "outputs": [
    {
     "data": {
      "text/plain": [
       "30078"
      ]
     },
     "execution_count": 101,
     "metadata": {},
     "output_type": "execute_result"
    }
   ],
   "source": [
    "len(data)"
   ]
  },
  {
   "cell_type": "code",
   "execution_count": 102,
   "metadata": {},
   "outputs": [],
   "source": [
    "user_profile = user_profile()"
   ]
  },
  {
   "cell_type": "code",
   "execution_count": 103,
   "metadata": {},
   "outputs": [
    {
     "data": {
      "text/html": [
       "<div>\n",
       "<style scoped>\n",
       "    .dataframe tbody tr th:only-of-type {\n",
       "        vertical-align: middle;\n",
       "    }\n",
       "\n",
       "    .dataframe tbody tr th {\n",
       "        vertical-align: top;\n",
       "    }\n",
       "\n",
       "    .dataframe thead th {\n",
       "        text-align: right;\n",
       "    }\n",
       "</style>\n",
       "<table border=\"1\" class=\"dataframe\">\n",
       "  <thead>\n",
       "    <tr style=\"text-align: right;\">\n",
       "      <th></th>\n",
       "      <th>user_id</th>\n",
       "      <th>gender</th>\n",
       "      <th>age</th>\n",
       "      <th>salary</th>\n",
       "      <th>province</th>\n",
       "    </tr>\n",
       "  </thead>\n",
       "  <tbody>\n",
       "    <tr>\n",
       "      <td>0</td>\n",
       "      <td>00ea9a2fe9c6810aab440c4d8c050000</td>\n",
       "      <td>女</td>\n",
       "      <td>26-35</td>\n",
       "      <td>20000-100000</td>\n",
       "      <td>江苏</td>\n",
       "    </tr>\n",
       "    <tr>\n",
       "      <td>1</td>\n",
       "      <td>01a0ae50fd4b9ef6ed04c22a7e421000</td>\n",
       "      <td>女</td>\n",
       "      <td>36-45</td>\n",
       "      <td>0-2000</td>\n",
       "      <td>河北</td>\n",
       "    </tr>\n",
       "    <tr>\n",
       "      <td>2</td>\n",
       "      <td>002db7d2360562dd16828c4b91402000</td>\n",
       "      <td>女</td>\n",
       "      <td>46-100</td>\n",
       "      <td>5000-10000</td>\n",
       "      <td>云南</td>\n",
       "    </tr>\n",
       "    <tr>\n",
       "      <td>3</td>\n",
       "      <td>006a184749e3b3eb83e9eb516d522000</td>\n",
       "      <td>男</td>\n",
       "      <td>36-45</td>\n",
       "      <td>2000-5000</td>\n",
       "      <td>天津</td>\n",
       "    </tr>\n",
       "    <tr>\n",
       "      <td>4</td>\n",
       "      <td>00de61c1d635ad964eef2aefa8292000</td>\n",
       "      <td>女</td>\n",
       "      <td>19-25</td>\n",
       "      <td>2000-5000</td>\n",
       "      <td>内蒙古</td>\n",
       "    </tr>\n",
       "  </tbody>\n",
       "</table>\n",
       "</div>"
      ],
      "text/plain": [
       "                            user_id gender     age        salary province\n",
       "0  00ea9a2fe9c6810aab440c4d8c050000      女   26-35  20000-100000       江苏\n",
       "1  01a0ae50fd4b9ef6ed04c22a7e421000      女   36-45        0-2000       河北\n",
       "2  002db7d2360562dd16828c4b91402000      女  46-100    5000-10000       云南\n",
       "3  006a184749e3b3eb83e9eb516d522000      男   36-45     2000-5000       天津\n",
       "4  00de61c1d635ad964eef2aefa8292000      女   19-25     2000-5000      内蒙古"
      ]
     },
     "execution_count": 103,
     "metadata": {},
     "output_type": "execute_result"
    }
   ],
   "source": [
    "user_profile.head()"
   ]
  },
  {
   "cell_type": "code",
   "execution_count": 104,
   "metadata": {},
   "outputs": [],
   "source": [
    "music_meta=df_music_meta"
   ]
  },
  {
   "cell_type": "code",
   "execution_count": 105,
   "metadata": {},
   "outputs": [],
   "source": [
    "data = data.merge(user_profile,\n",
    "                  how='inner',\n",
    "                  on='user_id').merge(music_meta,\n",
    "                                      how='inner',\n",
    "                                      on='item_id')"
   ]
  },
  {
   "cell_type": "code",
   "execution_count": 106,
   "metadata": {},
   "outputs": [
    {
     "data": {
      "text/html": [
       "<div>\n",
       "<style scoped>\n",
       "    .dataframe tbody tr th:only-of-type {\n",
       "        vertical-align: middle;\n",
       "    }\n",
       "\n",
       "    .dataframe tbody tr th {\n",
       "        vertical-align: top;\n",
       "    }\n",
       "\n",
       "    .dataframe thead th {\n",
       "        text-align: right;\n",
       "    }\n",
       "</style>\n",
       "<table border=\"1\" class=\"dataframe\">\n",
       "  <thead>\n",
       "    <tr style=\"text-align: right;\">\n",
       "      <th></th>\n",
       "      <th>user_id</th>\n",
       "      <th>item_id</th>\n",
       "      <th>score</th>\n",
       "      <th>label</th>\n",
       "      <th>gender</th>\n",
       "      <th>age</th>\n",
       "      <th>salary</th>\n",
       "      <th>province</th>\n",
       "      <th>item_name</th>\n",
       "      <th>total_timelen</th>\n",
       "      <th>location</th>\n",
       "      <th>tags</th>\n",
       "    </tr>\n",
       "  </thead>\n",
       "  <tbody>\n",
       "    <tr>\n",
       "      <td>0</td>\n",
       "      <td>0000066b1be6f28ad5e40d47b8d3e51c</td>\n",
       "      <td>426100349</td>\n",
       "      <td>1.280</td>\n",
       "      <td>1</td>\n",
       "      <td>女</td>\n",
       "      <td>26-35</td>\n",
       "      <td>10000-20000</td>\n",
       "      <td>香港</td>\n",
       "      <td>刘德华 - 回家的路 2015央视春晚 现场版</td>\n",
       "      <td>250</td>\n",
       "      <td>港台</td>\n",
       "      <td>-</td>\n",
       "    </tr>\n",
       "    <tr>\n",
       "      <td>1</td>\n",
       "      <td>000072fc29132acaf20168c589269e1c</td>\n",
       "      <td>426100349</td>\n",
       "      <td>1.276</td>\n",
       "      <td>1</td>\n",
       "      <td>女</td>\n",
       "      <td>36-45</td>\n",
       "      <td>5000-10000</td>\n",
       "      <td>湖北</td>\n",
       "      <td>刘德华 - 回家的路 2015央视春晚 现场版</td>\n",
       "      <td>250</td>\n",
       "      <td>港台</td>\n",
       "      <td>-</td>\n",
       "    </tr>\n",
       "    <tr>\n",
       "      <td>2</td>\n",
       "      <td>000074ec4874ab7d99d543d0ce419118</td>\n",
       "      <td>426100349</td>\n",
       "      <td>1.084</td>\n",
       "      <td>1</td>\n",
       "      <td>男</td>\n",
       "      <td>36-45</td>\n",
       "      <td>2000-5000</td>\n",
       "      <td>宁夏</td>\n",
       "      <td>刘德华 - 回家的路 2015央视春晚 现场版</td>\n",
       "      <td>250</td>\n",
       "      <td>港台</td>\n",
       "      <td>-</td>\n",
       "    </tr>\n",
       "    <tr>\n",
       "      <td>3</td>\n",
       "      <td>00117dfbdb3c9f1c0fc5d5522e038282</td>\n",
       "      <td>426100349</td>\n",
       "      <td>0.176</td>\n",
       "      <td>0</td>\n",
       "      <td>女</td>\n",
       "      <td>19-25</td>\n",
       "      <td>2000-5000</td>\n",
       "      <td>澳门</td>\n",
       "      <td>刘德华 - 回家的路 2015央视春晚 现场版</td>\n",
       "      <td>250</td>\n",
       "      <td>港台</td>\n",
       "      <td>-</td>\n",
       "    </tr>\n",
       "    <tr>\n",
       "      <td>4</td>\n",
       "      <td>0015bdf90133398e361e9ae4cd9d1340</td>\n",
       "      <td>426100349</td>\n",
       "      <td>0.060</td>\n",
       "      <td>0</td>\n",
       "      <td>男</td>\n",
       "      <td>36-45</td>\n",
       "      <td>10000-20000</td>\n",
       "      <td>台湾</td>\n",
       "      <td>刘德华 - 回家的路 2015央视春晚 现场版</td>\n",
       "      <td>250</td>\n",
       "      <td>港台</td>\n",
       "      <td>-</td>\n",
       "    </tr>\n",
       "  </tbody>\n",
       "</table>\n",
       "</div>"
      ],
      "text/plain": [
       "                            user_id    item_id  score  label gender    age  \\\n",
       "0  0000066b1be6f28ad5e40d47b8d3e51c  426100349  1.280      1      女  26-35   \n",
       "1  000072fc29132acaf20168c589269e1c  426100349  1.276      1      女  36-45   \n",
       "2  000074ec4874ab7d99d543d0ce419118  426100349  1.084      1      男  36-45   \n",
       "3  00117dfbdb3c9f1c0fc5d5522e038282  426100349  0.176      0      女  19-25   \n",
       "4  0015bdf90133398e361e9ae4cd9d1340  426100349  0.060      0      男  36-45   \n",
       "\n",
       "        salary province                item_name total_timelen location tags  \n",
       "0  10000-20000       香港  刘德华 - 回家的路 2015央视春晚 现场版           250       港台    -  \n",
       "1   5000-10000       湖北  刘德华 - 回家的路 2015央视春晚 现场版           250       港台    -  \n",
       "2    2000-5000       宁夏  刘德华 - 回家的路 2015央视春晚 现场版           250       港台    -  \n",
       "3    2000-5000       澳门  刘德华 - 回家的路 2015央视春晚 现场版           250       港台    -  \n",
       "4  10000-20000       台湾  刘德华 - 回家的路 2015央视春晚 现场版           250       港台    -  "
      ]
     },
     "execution_count": 106,
     "metadata": {},
     "output_type": "execute_result"
    }
   ],
   "source": [
    "data.head()"
   ]
  },
  {
   "cell_type": "code",
   "execution_count": 107,
   "metadata": {},
   "outputs": [],
   "source": [
    "user_feat = ['gender', 'age', 'salary', 'province']\n",
    "item_feat = ['total_timelen', 'location']\n",
    "item_text_feat = ['item_name', 'tags']"
   ]
  },
  {
   "cell_type": "code",
   "execution_count": 108,
   "metadata": {},
   "outputs": [],
   "source": [
    "category_feat = user_feat + ['location']\n",
    "continuous_feat = ['score']"
   ]
  },
  {
   "cell_type": "code",
   "execution_count": 109,
   "metadata": {},
   "outputs": [],
   "source": [
    "labels = data['label']"
   ]
  },
  {
   "cell_type": "code",
   "execution_count": 110,
   "metadata": {},
   "outputs": [
    {
     "data": {
      "text/plain": [
       "0        1\n",
       "1        1\n",
       "2        1\n",
       "3        0\n",
       "4        0\n",
       "        ..\n",
       "30073    0\n",
       "30074    1\n",
       "30075    0\n",
       "30076    0\n",
       "30077    1\n",
       "Name: label, Length: 30078, dtype: int64"
      ]
     },
     "execution_count": 110,
     "metadata": {},
     "output_type": "execute_result"
    }
   ],
   "source": [
    "labels\n"
   ]
  },
  {
   "cell_type": "code",
   "execution_count": 111,
   "metadata": {},
   "outputs": [],
   "source": [
    "del data['label']"
   ]
  },
  {
   "cell_type": "code",
   "execution_count": 112,
   "metadata": {},
   "outputs": [],
   "source": [
    "df = pd.get_dummies(data[category_feat])  # 特征_特征值"
   ]
  },
  {
   "cell_type": "code",
   "execution_count": 113,
   "metadata": {},
   "outputs": [
    {
     "data": {
      "text/html": [
       "<div>\n",
       "<style scoped>\n",
       "    .dataframe tbody tr th:only-of-type {\n",
       "        vertical-align: middle;\n",
       "    }\n",
       "\n",
       "    .dataframe tbody tr th {\n",
       "        vertical-align: top;\n",
       "    }\n",
       "\n",
       "    .dataframe thead th {\n",
       "        text-align: right;\n",
       "    }\n",
       "</style>\n",
       "<table border=\"1\" class=\"dataframe\">\n",
       "  <thead>\n",
       "    <tr style=\"text-align: right;\">\n",
       "      <th></th>\n",
       "      <th>gender_女</th>\n",
       "      <th>gender_男</th>\n",
       "      <th>age_0-18</th>\n",
       "      <th>age_19-25</th>\n",
       "      <th>age_26-35</th>\n",
       "      <th>age_36-45</th>\n",
       "      <th>age_46-100</th>\n",
       "      <th>salary_0-2000</th>\n",
       "      <th>salary_10000-20000</th>\n",
       "      <th>salary_2000-5000</th>\n",
       "      <th>...</th>\n",
       "      <th>location_国内</th>\n",
       "      <th>location_日韩</th>\n",
       "      <th>location_日韩,日本</th>\n",
       "      <th>location_日韩,韩国</th>\n",
       "      <th>location_欧美</th>\n",
       "      <th>location_港台</th>\n",
       "      <th>location_非洲,日本</th>\n",
       "      <th>location_韩国,国内</th>\n",
       "      <th>location_韩国,欧美</th>\n",
       "      <th>location_韩国,港台</th>\n",
       "    </tr>\n",
       "  </thead>\n",
       "  <tbody>\n",
       "    <tr>\n",
       "      <td>0</td>\n",
       "      <td>1</td>\n",
       "      <td>0</td>\n",
       "      <td>0</td>\n",
       "      <td>0</td>\n",
       "      <td>1</td>\n",
       "      <td>0</td>\n",
       "      <td>0</td>\n",
       "      <td>0</td>\n",
       "      <td>1</td>\n",
       "      <td>0</td>\n",
       "      <td>...</td>\n",
       "      <td>0</td>\n",
       "      <td>0</td>\n",
       "      <td>0</td>\n",
       "      <td>0</td>\n",
       "      <td>0</td>\n",
       "      <td>1</td>\n",
       "      <td>0</td>\n",
       "      <td>0</td>\n",
       "      <td>0</td>\n",
       "      <td>0</td>\n",
       "    </tr>\n",
       "    <tr>\n",
       "      <td>1</td>\n",
       "      <td>1</td>\n",
       "      <td>0</td>\n",
       "      <td>0</td>\n",
       "      <td>0</td>\n",
       "      <td>0</td>\n",
       "      <td>1</td>\n",
       "      <td>0</td>\n",
       "      <td>0</td>\n",
       "      <td>0</td>\n",
       "      <td>0</td>\n",
       "      <td>...</td>\n",
       "      <td>0</td>\n",
       "      <td>0</td>\n",
       "      <td>0</td>\n",
       "      <td>0</td>\n",
       "      <td>0</td>\n",
       "      <td>1</td>\n",
       "      <td>0</td>\n",
       "      <td>0</td>\n",
       "      <td>0</td>\n",
       "      <td>0</td>\n",
       "    </tr>\n",
       "    <tr>\n",
       "      <td>2</td>\n",
       "      <td>0</td>\n",
       "      <td>1</td>\n",
       "      <td>0</td>\n",
       "      <td>0</td>\n",
       "      <td>0</td>\n",
       "      <td>1</td>\n",
       "      <td>0</td>\n",
       "      <td>0</td>\n",
       "      <td>0</td>\n",
       "      <td>1</td>\n",
       "      <td>...</td>\n",
       "      <td>0</td>\n",
       "      <td>0</td>\n",
       "      <td>0</td>\n",
       "      <td>0</td>\n",
       "      <td>0</td>\n",
       "      <td>1</td>\n",
       "      <td>0</td>\n",
       "      <td>0</td>\n",
       "      <td>0</td>\n",
       "      <td>0</td>\n",
       "    </tr>\n",
       "    <tr>\n",
       "      <td>3</td>\n",
       "      <td>1</td>\n",
       "      <td>0</td>\n",
       "      <td>0</td>\n",
       "      <td>1</td>\n",
       "      <td>0</td>\n",
       "      <td>0</td>\n",
       "      <td>0</td>\n",
       "      <td>0</td>\n",
       "      <td>0</td>\n",
       "      <td>1</td>\n",
       "      <td>...</td>\n",
       "      <td>0</td>\n",
       "      <td>0</td>\n",
       "      <td>0</td>\n",
       "      <td>0</td>\n",
       "      <td>0</td>\n",
       "      <td>1</td>\n",
       "      <td>0</td>\n",
       "      <td>0</td>\n",
       "      <td>0</td>\n",
       "      <td>0</td>\n",
       "    </tr>\n",
       "    <tr>\n",
       "      <td>4</td>\n",
       "      <td>0</td>\n",
       "      <td>1</td>\n",
       "      <td>0</td>\n",
       "      <td>0</td>\n",
       "      <td>0</td>\n",
       "      <td>1</td>\n",
       "      <td>0</td>\n",
       "      <td>0</td>\n",
       "      <td>1</td>\n",
       "      <td>0</td>\n",
       "      <td>...</td>\n",
       "      <td>0</td>\n",
       "      <td>0</td>\n",
       "      <td>0</td>\n",
       "      <td>0</td>\n",
       "      <td>0</td>\n",
       "      <td>1</td>\n",
       "      <td>0</td>\n",
       "      <td>0</td>\n",
       "      <td>0</td>\n",
       "      <td>0</td>\n",
       "    </tr>\n",
       "  </tbody>\n",
       "</table>\n",
       "<p>5 rows × 59 columns</p>\n",
       "</div>"
      ],
      "text/plain": [
       "   gender_女  gender_男  age_0-18  age_19-25  age_26-35  age_36-45  age_46-100  \\\n",
       "0         1         0         0          0          1          0           0   \n",
       "1         1         0         0          0          0          1           0   \n",
       "2         0         1         0          0          0          1           0   \n",
       "3         1         0         0          1          0          0           0   \n",
       "4         0         1         0          0          0          1           0   \n",
       "\n",
       "   salary_0-2000  salary_10000-20000  salary_2000-5000  ...  location_国内  \\\n",
       "0              0                   1                 0  ...            0   \n",
       "1              0                   0                 0  ...            0   \n",
       "2              0                   0                 1  ...            0   \n",
       "3              0                   0                 1  ...            0   \n",
       "4              0                   1                 0  ...            0   \n",
       "\n",
       "   location_日韩  location_日韩,日本  location_日韩,韩国  location_欧美  location_港台  \\\n",
       "0            0               0               0            0            1   \n",
       "1            0               0               0            0            1   \n",
       "2            0               0               0            0            1   \n",
       "3            0               0               0            0            1   \n",
       "4            0               0               0            0            1   \n",
       "\n",
       "   location_非洲,日本  location_韩国,国内  location_韩国,欧美  location_韩国,港台  \n",
       "0               0               0               0               0  \n",
       "1               0               0               0               0  \n",
       "2               0               0               0               0  \n",
       "3               0               0               0               0  \n",
       "4               0               0               0               0  \n",
       "\n",
       "[5 rows x 59 columns]"
      ]
     },
     "execution_count": 113,
     "metadata": {},
     "output_type": "execute_result"
    }
   ],
   "source": [
    "df.head()"
   ]
  },
  {
   "cell_type": "code",
   "execution_count": 114,
   "metadata": {},
   "outputs": [
    {
     "data": {
      "text/html": [
       "<div>\n",
       "<style scoped>\n",
       "    .dataframe tbody tr th:only-of-type {\n",
       "        vertical-align: middle;\n",
       "    }\n",
       "\n",
       "    .dataframe tbody tr th {\n",
       "        vertical-align: top;\n",
       "    }\n",
       "\n",
       "    .dataframe thead th {\n",
       "        text-align: right;\n",
       "    }\n",
       "</style>\n",
       "<table border=\"1\" class=\"dataframe\">\n",
       "  <thead>\n",
       "    <tr style=\"text-align: right;\">\n",
       "      <th></th>\n",
       "      <th>gender</th>\n",
       "      <th>age</th>\n",
       "      <th>salary</th>\n",
       "      <th>province</th>\n",
       "      <th>location</th>\n",
       "    </tr>\n",
       "  </thead>\n",
       "  <tbody>\n",
       "    <tr>\n",
       "      <td>0</td>\n",
       "      <td>女</td>\n",
       "      <td>26-35</td>\n",
       "      <td>10000-20000</td>\n",
       "      <td>香港</td>\n",
       "      <td>港台</td>\n",
       "    </tr>\n",
       "    <tr>\n",
       "      <td>1</td>\n",
       "      <td>女</td>\n",
       "      <td>36-45</td>\n",
       "      <td>5000-10000</td>\n",
       "      <td>湖北</td>\n",
       "      <td>港台</td>\n",
       "    </tr>\n",
       "    <tr>\n",
       "      <td>2</td>\n",
       "      <td>男</td>\n",
       "      <td>36-45</td>\n",
       "      <td>2000-5000</td>\n",
       "      <td>宁夏</td>\n",
       "      <td>港台</td>\n",
       "    </tr>\n",
       "    <tr>\n",
       "      <td>3</td>\n",
       "      <td>女</td>\n",
       "      <td>19-25</td>\n",
       "      <td>2000-5000</td>\n",
       "      <td>澳门</td>\n",
       "      <td>港台</td>\n",
       "    </tr>\n",
       "    <tr>\n",
       "      <td>4</td>\n",
       "      <td>男</td>\n",
       "      <td>36-45</td>\n",
       "      <td>10000-20000</td>\n",
       "      <td>台湾</td>\n",
       "      <td>港台</td>\n",
       "    </tr>\n",
       "  </tbody>\n",
       "</table>\n",
       "</div>"
      ],
      "text/plain": [
       "  gender    age       salary province location\n",
       "0      女  26-35  10000-20000       香港       港台\n",
       "1      女  36-45   5000-10000       湖北       港台\n",
       "2      男  36-45    2000-5000       宁夏       港台\n",
       "3      女  19-25    2000-5000       澳门       港台\n",
       "4      男  36-45  10000-20000       台湾       港台"
      ]
     },
     "execution_count": 114,
     "metadata": {},
     "output_type": "execute_result"
    }
   ],
   "source": [
    "data[category_feat].head()"
   ]
  },
  {
   "cell_type": "code",
   "execution_count": 115,
   "metadata": {},
   "outputs": [],
   "source": [
    "one_hot_columns = df.columns "
   ]
  },
  {
   "cell_type": "code",
   "execution_count": 117,
   "metadata": {},
   "outputs": [
    {
     "data": {
      "text/plain": [
       "Index(['gender_女', 'gender_男', 'age_0-18', 'age_19-25', 'age_26-35',\n",
       "       'age_36-45', 'age_46-100', 'salary_0-2000', 'salary_10000-20000',\n",
       "       'salary_2000-5000', 'salary_20000-100000', 'salary_5000-10000',\n",
       "       'province_上海', 'province_云南', 'province_内蒙古', 'province_北京',\n",
       "       'province_台湾', 'province_吉林', 'province_四川', 'province_天津',\n",
       "       'province_宁夏', 'province_安徽', 'province_山东', 'province_山西',\n",
       "       'province_广东', 'province_广西', 'province_新疆', 'province_江苏',\n",
       "       'province_江西', 'province_河北', 'province_河南', 'province_浙江',\n",
       "       'province_海南', 'province_湖北', 'province_湖南', 'province_澳门',\n",
       "       'province_甘肃', 'province_福建', 'province_西藏', 'province_贵州',\n",
       "       'province_辽宁', 'province_重庆', 'province_陕西', 'province_青海',\n",
       "       'province_香港', 'province_黑龙江', 'location_-', 'location_亚洲',\n",
       "       'location_亚洲,韩国', 'location_国内', 'location_日韩', 'location_日韩,日本',\n",
       "       'location_日韩,韩国', 'location_欧美', 'location_港台', 'location_非洲,日本',\n",
       "       'location_韩国,国内', 'location_韩国,欧美', 'location_韩国,港台'],\n",
       "      dtype='object')"
      ]
     },
     "execution_count": 117,
     "metadata": {},
     "output_type": "execute_result"
    }
   ],
   "source": [
    "one_hot_columns"
   ]
  },
  {
   "cell_type": "code",
   "execution_count": 118,
   "metadata": {},
   "outputs": [],
   "source": [
    "# 2.连续特征不处理直接带入[一般做离散GBDT（xgboost）叶子结点做离散化编码 GBDT+LR]\n",
    "df[continuous_feat] = data[continuous_feat].astype(float)  # 转换数据类型，cast( as float)"
   ]
  },
  {
   "cell_type": "code",
   "execution_count": 119,
   "metadata": {},
   "outputs": [
    {
     "data": {
      "text/plain": [
       "Index(['gender_女', 'gender_男', 'age_0-18', 'age_19-25', 'age_26-35',\n",
       "       'age_36-45', 'age_46-100', 'salary_0-2000', 'salary_10000-20000',\n",
       "       'salary_2000-5000', 'salary_20000-100000', 'salary_5000-10000',\n",
       "       'province_上海', 'province_云南', 'province_内蒙古', 'province_北京',\n",
       "       'province_台湾', 'province_吉林', 'province_四川', 'province_天津',\n",
       "       'province_宁夏', 'province_安徽', 'province_山东', 'province_山西',\n",
       "       'province_广东', 'province_广西', 'province_新疆', 'province_江苏',\n",
       "       'province_江西', 'province_河北', 'province_河南', 'province_浙江',\n",
       "       'province_海南', 'province_湖北', 'province_湖南', 'province_澳门',\n",
       "       'province_甘肃', 'province_福建', 'province_西藏', 'province_贵州',\n",
       "       'province_辽宁', 'province_重庆', 'province_陕西', 'province_青海',\n",
       "       'province_香港', 'province_黑龙江', 'location_-', 'location_亚洲',\n",
       "       'location_亚洲,韩国', 'location_国内', 'location_日韩', 'location_日韩,日本',\n",
       "       'location_日韩,韩国', 'location_欧美', 'location_港台', 'location_非洲,日本',\n",
       "       'location_韩国,国内', 'location_韩国,欧美', 'location_韩国,港台', 'score'],\n",
       "      dtype='object')"
      ]
     },
     "execution_count": 119,
     "metadata": {},
     "output_type": "execute_result"
    }
   ],
   "source": [
    "df.columns \n"
   ]
  },
  {
   "cell_type": "code",
   "execution_count": 120,
   "metadata": {},
   "outputs": [],
   "source": [
    "# 交叉特征线要对user_id和item_id 做一个组合key\n",
    "data['ui-key'] = data['user_id'].astype(str) + \"_\" + data['item_id'].astype(str)"
   ]
  },
  {
   "cell_type": "code",
   "execution_count": 121,
   "metadata": {},
   "outputs": [],
   "source": [
    "cross_feat_map = dict() "
   ]
  },
  {
   "cell_type": "code",
   "execution_count": 122,
   "metadata": {},
   "outputs": [
    {
     "name": "stdout",
     "output_type": "stream",
     "text": [
      "ui-key    0000066b1be6f28ad5e40d47b8d3e51c_426100349\n",
      "score                                           1.28\n",
      "Name: 0, dtype: object\n"
     ]
    }
   ],
   "source": [
    "for _, row in data[['ui-key', 'score']].iterrows():\n",
    "    print(row)\n",
    "    break"
   ]
  },
  {
   "cell_type": "code",
   "execution_count": 123,
   "metadata": {},
   "outputs": [],
   "source": [
    "for _, row in data[['ui-key', 'score']].iterrows():\n",
    "    cross_feat_map[row['ui-key']] = row['score']"
   ]
  },
  {
   "cell_type": "code",
   "execution_count": 124,
   "metadata": {},
   "outputs": [
    {
     "data": {
      "text/plain": [
       "30078"
      ]
     },
     "execution_count": 124,
     "metadata": {},
     "output_type": "execute_result"
    }
   ],
   "source": [
    "len(cross_feat_map )"
   ]
  },
  {
   "cell_type": "code",
   "execution_count": 125,
   "metadata": {},
   "outputs": [
    {
     "data": {
      "text/plain": [
       "30078"
      ]
     },
     "execution_count": 125,
     "metadata": {},
     "output_type": "execute_result"
    }
   ],
   "source": [
    "len(df)"
   ]
  },
  {
   "cell_type": "code",
   "execution_count": 126,
   "metadata": {},
   "outputs": [
    {
     "data": {
      "text/plain": [
       "Index(['user_id', 'item_id', 'score', 'gender', 'age', 'salary', 'province',\n",
       "       'item_name', 'total_timelen', 'location', 'tags', 'ui-key'],\n",
       "      dtype='object')"
      ]
     },
     "execution_count": 126,
     "metadata": {},
     "output_type": "execute_result"
    }
   ],
   "source": [
    "data.columns\n"
   ]
  },
  {
   "cell_type": "code",
   "execution_count": 127,
   "metadata": {},
   "outputs": [],
   "source": [
    "cross_file = '%s/cross_feat.dict' % music_mid_data_path"
   ]
  },
  {
   "cell_type": "code",
   "execution_count": 128,
   "metadata": {},
   "outputs": [],
   "source": [
    "with open(cross_file, 'w') as f:\n",
    "    f.write(str(cross_feat_map))"
   ]
  },
  {
   "cell_type": "code",
   "execution_count": 129,
   "metadata": {},
   "outputs": [
    {
     "name": "stdout",
     "output_type": "stream",
     "text": [
      "[[1.    0.    0.    0.    1.    0.    0.    0.    1.    0.    0.    0.\n",
      "  0.    0.    0.    0.    0.    0.    0.    0.    0.    0.    0.    0.\n",
      "  0.    0.    0.    0.    0.    0.    0.    0.    0.    0.    0.    0.\n",
      "  0.    0.    0.    0.    0.    0.    0.    0.    1.    0.    0.    0.\n",
      "  0.    0.    0.    0.    0.    0.    1.    0.    0.    0.    0.    1.28 ]\n",
      " [1.    0.    0.    0.    0.    1.    0.    0.    0.    0.    0.    1.\n",
      "  0.    0.    0.    0.    0.    0.    0.    0.    0.    0.    0.    0.\n",
      "  0.    0.    0.    0.    0.    0.    0.    0.    0.    1.    0.    0.\n",
      "  0.    0.    0.    0.    0.    0.    0.    0.    0.    0.    0.    0.\n",
      "  0.    0.    0.    0.    0.    0.    1.    0.    0.    0.    0.    1.276]\n",
      " [0.    1.    0.    0.    0.    1.    0.    0.    0.    1.    0.    0.\n",
      "  0.    0.    0.    0.    0.    0.    0.    0.    1.    0.    0.    0.\n",
      "  0.    0.    0.    0.    0.    0.    0.    0.    0.    0.    0.    0.\n",
      "  0.    0.    0.    0.    0.    0.    0.    0.    0.    0.    0.    0.\n",
      "  0.    0.    0.    0.    0.    0.    1.    0.    0.    0.    0.    1.084]\n",
      " [1.    0.    0.    1.    0.    0.    0.    0.    0.    1.    0.    0.\n",
      "  0.    0.    0.    0.    0.    0.    0.    0.    0.    0.    0.    0.\n",
      "  0.    0.    0.    0.    0.    0.    0.    0.    0.    0.    0.    1.\n",
      "  0.    0.    0.    0.    0.    0.    0.    0.    0.    0.    0.    0.\n",
      "  0.    0.    0.    0.    0.    0.    1.    0.    0.    0.    0.    0.176]\n",
      " [0.    1.    0.    0.    0.    1.    0.    0.    1.    0.    0.    0.\n",
      "  0.    0.    0.    0.    1.    0.    0.    0.    0.    0.    0.    0.\n",
      "  0.    0.    0.    0.    0.    0.    0.    0.    0.    0.    0.    0.\n",
      "  0.    0.    0.    0.    0.    0.    0.    0.    0.    0.    0.    0.\n",
      "  0.    0.    0.    0.    0.    0.    1.    0.    0.    0.    0.    0.06 ]\n",
      " [1.    0.    1.    0.    0.    0.    0.    0.    0.    1.    0.    0.\n",
      "  0.    0.    0.    0.    0.    0.    0.    0.    0.    0.    0.    0.\n",
      "  0.    0.    0.    0.    0.    0.    0.    0.    0.    0.    0.    1.\n",
      "  0.    0.    0.    0.    0.    0.    0.    0.    0.    0.    0.    0.\n",
      "  0.    0.    0.    0.    0.    0.    1.    0.    0.    0.    0.    1.3  ]\n",
      " [0.    1.    0.    1.    0.    0.    0.    1.    0.    0.    0.    0.\n",
      "  0.    0.    0.    0.    0.    0.    0.    0.    0.    0.    0.    0.\n",
      "  0.    0.    1.    0.    0.    0.    0.    0.    0.    0.    0.    0.\n",
      "  0.    0.    0.    0.    0.    0.    0.    0.    0.    0.    0.    0.\n",
      "  0.    0.    0.    0.    0.    0.    1.    0.    0.    0.    0.    1.204]\n",
      " [1.    0.    0.    1.    0.    0.    0.    0.    1.    0.    0.    0.\n",
      "  0.    0.    0.    0.    0.    0.    0.    0.    0.    0.    0.    0.\n",
      "  0.    0.    0.    0.    0.    0.    0.    0.    0.    0.    0.    0.\n",
      "  1.    0.    0.    0.    0.    0.    0.    0.    0.    0.    0.    0.\n",
      "  0.    0.    0.    0.    0.    0.    1.    0.    0.    0.    0.    1.284]\n",
      " [0.    1.    0.    0.    0.    1.    0.    0.    0.    0.    1.    0.\n",
      "  0.    0.    0.    0.    0.    0.    0.    0.    0.    0.    0.    0.\n",
      "  0.    0.    0.    0.    0.    0.    1.    0.    0.    0.    0.    0.\n",
      "  0.    0.    0.    0.    0.    0.    0.    0.    0.    0.    0.    0.\n",
      "  0.    0.    0.    0.    0.    0.    1.    0.    0.    0.    0.    1.296]\n",
      " [1.    0.    0.    0.    0.    0.    1.    0.    0.    1.    0.    0.\n",
      "  0.    0.    0.    0.    0.    0.    1.    0.    0.    0.    0.    0.\n",
      "  0.    0.    0.    0.    0.    0.    0.    0.    0.    0.    0.    0.\n",
      "  0.    0.    0.    0.    0.    0.    0.    0.    0.    0.    0.    0.\n",
      "  0.    0.    0.    0.    0.    0.    1.    0.    0.    0.    0.    0.06 ]]\n"
     ]
    }
   ],
   "source": [
    "print(df.values[:10])"
   ]
  },
  {
   "cell_type": "code",
   "execution_count": 130,
   "metadata": {},
   "outputs": [
    {
     "data": {
      "text/html": [
       "<div>\n",
       "<style scoped>\n",
       "    .dataframe tbody tr th:only-of-type {\n",
       "        vertical-align: middle;\n",
       "    }\n",
       "\n",
       "    .dataframe tbody tr th {\n",
       "        vertical-align: top;\n",
       "    }\n",
       "\n",
       "    .dataframe thead th {\n",
       "        text-align: right;\n",
       "    }\n",
       "</style>\n",
       "<table border=\"1\" class=\"dataframe\">\n",
       "  <thead>\n",
       "    <tr style=\"text-align: right;\">\n",
       "      <th></th>\n",
       "      <th>gender_女</th>\n",
       "      <th>gender_男</th>\n",
       "      <th>age_0-18</th>\n",
       "      <th>age_19-25</th>\n",
       "      <th>age_26-35</th>\n",
       "      <th>age_36-45</th>\n",
       "      <th>age_46-100</th>\n",
       "      <th>salary_0-2000</th>\n",
       "      <th>salary_10000-20000</th>\n",
       "      <th>salary_2000-5000</th>\n",
       "      <th>...</th>\n",
       "      <th>location_日韩</th>\n",
       "      <th>location_日韩,日本</th>\n",
       "      <th>location_日韩,韩国</th>\n",
       "      <th>location_欧美</th>\n",
       "      <th>location_港台</th>\n",
       "      <th>location_非洲,日本</th>\n",
       "      <th>location_韩国,国内</th>\n",
       "      <th>location_韩国,欧美</th>\n",
       "      <th>location_韩国,港台</th>\n",
       "      <th>score</th>\n",
       "    </tr>\n",
       "  </thead>\n",
       "  <tbody>\n",
       "    <tr>\n",
       "      <td>0</td>\n",
       "      <td>1</td>\n",
       "      <td>0</td>\n",
       "      <td>0</td>\n",
       "      <td>0</td>\n",
       "      <td>1</td>\n",
       "      <td>0</td>\n",
       "      <td>0</td>\n",
       "      <td>0</td>\n",
       "      <td>1</td>\n",
       "      <td>0</td>\n",
       "      <td>...</td>\n",
       "      <td>0</td>\n",
       "      <td>0</td>\n",
       "      <td>0</td>\n",
       "      <td>0</td>\n",
       "      <td>1</td>\n",
       "      <td>0</td>\n",
       "      <td>0</td>\n",
       "      <td>0</td>\n",
       "      <td>0</td>\n",
       "      <td>1.280</td>\n",
       "    </tr>\n",
       "    <tr>\n",
       "      <td>1</td>\n",
       "      <td>1</td>\n",
       "      <td>0</td>\n",
       "      <td>0</td>\n",
       "      <td>0</td>\n",
       "      <td>0</td>\n",
       "      <td>1</td>\n",
       "      <td>0</td>\n",
       "      <td>0</td>\n",
       "      <td>0</td>\n",
       "      <td>0</td>\n",
       "      <td>...</td>\n",
       "      <td>0</td>\n",
       "      <td>0</td>\n",
       "      <td>0</td>\n",
       "      <td>0</td>\n",
       "      <td>1</td>\n",
       "      <td>0</td>\n",
       "      <td>0</td>\n",
       "      <td>0</td>\n",
       "      <td>0</td>\n",
       "      <td>1.276</td>\n",
       "    </tr>\n",
       "    <tr>\n",
       "      <td>2</td>\n",
       "      <td>0</td>\n",
       "      <td>1</td>\n",
       "      <td>0</td>\n",
       "      <td>0</td>\n",
       "      <td>0</td>\n",
       "      <td>1</td>\n",
       "      <td>0</td>\n",
       "      <td>0</td>\n",
       "      <td>0</td>\n",
       "      <td>1</td>\n",
       "      <td>...</td>\n",
       "      <td>0</td>\n",
       "      <td>0</td>\n",
       "      <td>0</td>\n",
       "      <td>0</td>\n",
       "      <td>1</td>\n",
       "      <td>0</td>\n",
       "      <td>0</td>\n",
       "      <td>0</td>\n",
       "      <td>0</td>\n",
       "      <td>1.084</td>\n",
       "    </tr>\n",
       "    <tr>\n",
       "      <td>3</td>\n",
       "      <td>1</td>\n",
       "      <td>0</td>\n",
       "      <td>0</td>\n",
       "      <td>1</td>\n",
       "      <td>0</td>\n",
       "      <td>0</td>\n",
       "      <td>0</td>\n",
       "      <td>0</td>\n",
       "      <td>0</td>\n",
       "      <td>1</td>\n",
       "      <td>...</td>\n",
       "      <td>0</td>\n",
       "      <td>0</td>\n",
       "      <td>0</td>\n",
       "      <td>0</td>\n",
       "      <td>1</td>\n",
       "      <td>0</td>\n",
       "      <td>0</td>\n",
       "      <td>0</td>\n",
       "      <td>0</td>\n",
       "      <td>0.176</td>\n",
       "    </tr>\n",
       "    <tr>\n",
       "      <td>4</td>\n",
       "      <td>0</td>\n",
       "      <td>1</td>\n",
       "      <td>0</td>\n",
       "      <td>0</td>\n",
       "      <td>0</td>\n",
       "      <td>1</td>\n",
       "      <td>0</td>\n",
       "      <td>0</td>\n",
       "      <td>1</td>\n",
       "      <td>0</td>\n",
       "      <td>...</td>\n",
       "      <td>0</td>\n",
       "      <td>0</td>\n",
       "      <td>0</td>\n",
       "      <td>0</td>\n",
       "      <td>1</td>\n",
       "      <td>0</td>\n",
       "      <td>0</td>\n",
       "      <td>0</td>\n",
       "      <td>0</td>\n",
       "      <td>0.060</td>\n",
       "    </tr>\n",
       "  </tbody>\n",
       "</table>\n",
       "<p>5 rows × 60 columns</p>\n",
       "</div>"
      ],
      "text/plain": [
       "   gender_女  gender_男  age_0-18  age_19-25  age_26-35  age_36-45  age_46-100  \\\n",
       "0         1         0         0          0          1          0           0   \n",
       "1         1         0         0          0          0          1           0   \n",
       "2         0         1         0          0          0          1           0   \n",
       "3         1         0         0          1          0          0           0   \n",
       "4         0         1         0          0          0          1           0   \n",
       "\n",
       "   salary_0-2000  salary_10000-20000  salary_2000-5000  ...  location_日韩  \\\n",
       "0              0                   1                 0  ...            0   \n",
       "1              0                   0                 0  ...            0   \n",
       "2              0                   0                 1  ...            0   \n",
       "3              0                   0                 1  ...            0   \n",
       "4              0                   1                 0  ...            0   \n",
       "\n",
       "   location_日韩,日本  location_日韩,韩国  location_欧美  location_港台  location_非洲,日本  \\\n",
       "0               0               0            0            1               0   \n",
       "1               0               0            0            1               0   \n",
       "2               0               0            0            1               0   \n",
       "3               0               0            0            1               0   \n",
       "4               0               0            0            1               0   \n",
       "\n",
       "   location_韩国,国内  location_韩国,欧美  location_韩国,港台  score  \n",
       "0               0               0               0  1.280  \n",
       "1               0               0               0  1.276  \n",
       "2               0               0               0  1.084  \n",
       "3               0               0               0  0.176  \n",
       "4               0               0               0  0.060  \n",
       "\n",
       "[5 rows x 60 columns]"
      ]
     },
     "execution_count": 130,
     "metadata": {},
     "output_type": "execute_result"
    }
   ],
   "source": [
    "df.head()"
   ]
  },
  {
   "cell_type": "code",
   "execution_count": 132,
   "metadata": {},
   "outputs": [],
   "source": [
    "from sklearn.model_selection import train_test_split\n",
    "from sklearn.linear_model import LogisticRegression"
   ]
  },
  {
   "cell_type": "code",
   "execution_count": 133,
   "metadata": {},
   "outputs": [],
   "source": [
    "X_train, X_test, y_train, y_test = train_test_split(df.values, labels, test_size=0.3, random_state=2019)"
   ]
  },
  {
   "cell_type": "code",
   "execution_count": 140,
   "metadata": {},
   "outputs": [
    {
     "data": {
      "text/plain": [
       "array([[1.        , 0.        , 0.        , ..., 0.        , 0.        ,\n",
       "        1.04876682],\n",
       "       [1.        , 0.        , 0.        , ..., 0.        , 0.        ,\n",
       "        1.04278075],\n",
       "       [1.        , 0.        , 0.        , ..., 0.        , 0.        ,\n",
       "        1.18611111],\n",
       "       ...,\n",
       "       [0.        , 1.        , 0.        , ..., 0.        , 0.        ,\n",
       "        1.1884058 ],\n",
       "       [0.        , 1.        , 0.        , ..., 0.        , 0.        ,\n",
       "        1.875     ],\n",
       "       [0.        , 1.        , 1.        , ..., 0.        , 0.        ,\n",
       "        1.32110092]])"
      ]
     },
     "execution_count": 140,
     "metadata": {},
     "output_type": "execute_result"
    }
   ],
   "source": [
    "X_test.col"
   ]
  },
  {
   "cell_type": "code",
   "execution_count": 138,
   "metadata": {},
   "outputs": [
    {
     "name": "stdout",
     "output_type": "stream",
     "text": [
      "[LibLinear]"
     ]
    },
    {
     "name": "stderr",
     "output_type": "stream",
     "text": [
      "d:\\ProgramData\\Anaconda3\\lib\\site-packages\\sklearn\\linear_model\\logistic.py:1544: UserWarning: 'n_jobs' > 1 does not have any effect when 'solver' is set to 'liblinear'. Got 'n_jobs' = 4.\n",
      "  \" = {}.\".format(effective_n_jobs(self.n_jobs)))\n"
     ]
    }
   ],
   "source": [
    "lr = LogisticRegression(penalty='l2', dual=False, tol=1e-4, C=1.0,\n",
    "                        fit_intercept=True, intercept_scaling=1, class_weight=None,\n",
    "                        random_state=None, solver='liblinear', max_iter=100,\n",
    "                        multi_class='ovr', verbose=1, warm_start=False, n_jobs=-1)\n",
    "\n",
    "model = lr.fit(X_train, y_train)"
   ]
  },
  {
   "cell_type": "code",
   "execution_count": 139,
   "metadata": {},
   "outputs": [
    {
     "name": "stdout",
     "output_type": "stream",
     "text": [
      "w:[[-5.25580184e+00 -5.27933322e+00 -2.14300622e+00 -2.17089510e+00\n",
      "  -2.00378023e+00 -2.11170559e+00 -2.10574791e+00 -2.16648472e+00\n",
      "  -2.07305057e+00 -1.99577303e+00 -2.15662459e+00 -2.14320215e+00\n",
      "   3.69359175e-03 -1.35623857e-01 -4.27018595e-01 -3.33200367e-01\n",
      "  -4.50494632e-01 -2.85270350e-01 -1.70427459e-01 -2.50548370e-01\n",
      "  -4.93560054e-01 -1.68534841e-01 -2.45978852e-01 -8.18696791e-02\n",
      "  -3.42674079e-01 -4.35492745e-01 -4.09052467e-01 -6.01994486e-02\n",
      "   1.15461185e-01 -4.52481674e-01 -2.28048305e-01 -3.89001677e-01\n",
      "  -4.79099688e-01 -3.31473987e-01 -3.51528020e-01 -4.65516679e-01\n",
      "  -3.43777848e-01 -5.37290896e-01 -2.17547100e-01 -1.91752069e-01\n",
      "  -7.16065690e-02 -4.36554775e-01 -3.71337484e-01 -4.04290164e-01\n",
      "  -3.81391007e-01 -7.11646094e-01 -1.30807660e+00 -1.80644526e-01\n",
      "   4.92717943e-04 -1.44101095e+00 -2.06841736e+00 -1.21105202e+00\n",
      "  -1.22681701e+00 -1.55580897e+00 -1.55016068e+00  0.00000000e+00\n",
      "  -1.53246728e-04 -1.43288556e-03  7.94646140e-03  2.44634273e+01]], b:[-10.53513505]\n"
     ]
    }
   ],
   "source": [
    "print('w:%s, b:%s' % (lr.coef_, lr.intercept_))"
   ]
  },
  {
   "cell_type": "code",
   "execution_count": 141,
   "metadata": {},
   "outputs": [
    {
     "name": "stdout",
     "output_type": "stream",
     "text": [
      "score: 0.9937\n"
     ]
    }
   ],
   "source": [
    "print('score: %.4f' % lr.score(X_test, y_test))"
   ]
  },
  {
   "cell_type": "code",
   "execution_count": 8,
   "metadata": {
    "pycharm": {
     "is_executing": false
    }
   },
   "outputs": [],
   "source": [
    "music_mid_data_path = \"data/music_mid_data\"\n",
    "user_feat_map_file = '%s/feat/one_hot.dict' % music_mid_data_path\n",
    "import os\n",
    "os.mkdir('data/music_mid_data/feat')"
   ]
  },
  {
   "cell_type": "code",
   "execution_count": 10,
   "metadata": {
    "pycharm": {
     "is_executing": false,
     "name": "#%%\n"
    }
   },
   "outputs": [
    {
     "ename": "NameError",
     "evalue": "name 'one_hot_columns' is not defined",
     "output_type": "error",
     "traceback": [
      "\u001b[1;31m---------------------------------------------------------------------------\u001b[0m",
      "\u001b[1;31mNameError\u001b[0m                                 Traceback (most recent call last)",
      "\u001b[1;32m<ipython-input-10-1a174c17bd25>\u001b[0m in \u001b[0;36m<module>\u001b[1;34m\u001b[0m\n\u001b[0;32m      1\u001b[0m \u001b[0mfeat_map\u001b[0m \u001b[1;33m=\u001b[0m \u001b[1;33m{\u001b[0m\u001b[1;33m}\u001b[0m\u001b[1;33m\u001b[0m\u001b[1;33m\u001b[0m\u001b[0m\n\u001b[1;32m----> 2\u001b[1;33m \u001b[1;32mfor\u001b[0m \u001b[0mi\u001b[0m \u001b[1;32min\u001b[0m \u001b[0mrange\u001b[0m\u001b[1;33m(\u001b[0m\u001b[0mlen\u001b[0m\u001b[1;33m(\u001b[0m\u001b[0mone_hot_columns\u001b[0m\u001b[1;33m)\u001b[0m\u001b[1;33m)\u001b[0m\u001b[1;33m:\u001b[0m\u001b[1;33m\u001b[0m\u001b[1;33m\u001b[0m\u001b[0m\n\u001b[0m\u001b[0;32m      3\u001b[0m     \u001b[0mkey\u001b[0m \u001b[1;33m=\u001b[0m \u001b[0mone_hot_columns\u001b[0m\u001b[1;33m[\u001b[0m\u001b[0mi\u001b[0m\u001b[1;33m]\u001b[0m\u001b[1;33m\u001b[0m\u001b[1;33m\u001b[0m\u001b[0m\n\u001b[0;32m      4\u001b[0m     \u001b[0mfeat_map\u001b[0m\u001b[1;33m[\u001b[0m\u001b[0mkey\u001b[0m\u001b[1;33m]\u001b[0m \u001b[1;33m=\u001b[0m \u001b[0mi\u001b[0m\u001b[1;33m\u001b[0m\u001b[1;33m\u001b[0m\u001b[0m\n\u001b[0;32m      5\u001b[0m \u001b[0mprint\u001b[0m\u001b[1;33m(\u001b[0m\u001b[0mfeat_map\u001b[0m\u001b[1;33m)\u001b[0m\u001b[1;33m\u001b[0m\u001b[1;33m\u001b[0m\u001b[0m\n",
      "\u001b[1;31mNameError\u001b[0m: name 'one_hot_columns' is not defined"
     ]
    }
   ],
   "source": [
    "feat_map = {}\n",
    "for i in range(len(one_hot_columns)):\n",
    "    key = one_hot_columns[i]\n",
    "    feat_map[key] = i\n",
    "print(feat_map)\n",
    "# 特征映射表存储\n",
    "with open(user_feat_map_file, 'w', encoding='utf-8') as ohf:\n",
    "    ohf.write(str(feat_map))"
   ]
  },
  {
   "cell_type": "code",
   "execution_count": 11,
   "metadata": {
    "pycharm": {
     "name": "#%%\n"
    }
   },
   "outputs": [
    {
     "ename": "NameError",
     "evalue": "name 'lr' is not defined",
     "output_type": "error",
     "traceback": [
      "\u001b[1;31m---------------------------------------------------------------------------\u001b[0m",
      "\u001b[1;31mNameError\u001b[0m                                 Traceback (most recent call last)",
      "\u001b[1;32m<ipython-input-11-208ce1e01e11>\u001b[0m in \u001b[0;36m<module>\u001b[1;34m\u001b[0m\n\u001b[1;32m----> 1\u001b[1;33m \u001b[0mmodel_dict\u001b[0m \u001b[1;33m=\u001b[0m \u001b[1;33m{\u001b[0m\u001b[1;34m'W'\u001b[0m\u001b[1;33m:\u001b[0m \u001b[0mlr\u001b[0m\u001b[1;33m.\u001b[0m\u001b[0mcoef_\u001b[0m\u001b[1;33m.\u001b[0m\u001b[0mtolist\u001b[0m\u001b[1;33m(\u001b[0m\u001b[1;33m)\u001b[0m\u001b[1;33m[\u001b[0m\u001b[1;36m0\u001b[0m\u001b[1;33m]\u001b[0m\u001b[1;33m,\u001b[0m \u001b[1;34m'b'\u001b[0m\u001b[1;33m:\u001b[0m \u001b[0mlr\u001b[0m\u001b[1;33m.\u001b[0m\u001b[0mintercept_\u001b[0m\u001b[1;33m.\u001b[0m\u001b[0mtolist\u001b[0m\u001b[1;33m(\u001b[0m\u001b[1;33m)\u001b[0m\u001b[1;33m[\u001b[0m\u001b[1;36m0\u001b[0m\u001b[1;33m]\u001b[0m\u001b[1;33m}\u001b[0m\u001b[1;33m\u001b[0m\u001b[1;33m\u001b[0m\u001b[0m\n\u001b[0m",
      "\u001b[1;31mNameError\u001b[0m: name 'lr' is not defined"
     ]
    }
   ],
   "source": [
    "model_dict = {'W': lr.coef_.tolist()[0], 'b': lr.intercept_.tolist()[0]}\n"
   ]
  },
  {
   "cell_type": "code",
   "execution_count": 12,
   "metadata": {},
   "outputs": [],
   "source": [
    "data_path = 'G:\\\\idea_workspace\\\\bigdata\\\\bigdata_demo_py\\\\demoDay21_recsys_music\\\\data\\music_data'\n",
    "music_mid_data_path = \"data/music_mid_data\""
   ]
  },
  {
   "cell_type": "code",
   "execution_count": 13,
   "metadata": {},
   "outputs": [],
   "source": [
    "\n",
    "def user_watch(nrows=None):\n",
    "    user_watch_pref = os.path.join(data_path, 'user_watch_pref.sml')\n",
    "    return pd.read_csv(user_watch_pref,\n",
    "                       sep='\\001',\n",
    "                       nrows=nrows,\n",
    "                       names=['user_id', 'item_id', 'stay_seconds', 'hour'])"
   ]
  },
  {
   "cell_type": "code",
   "execution_count": 14,
   "metadata": {},
   "outputs": [],
   "source": [
    "def music_data(nrows=None):\n",
    "    music_meta = os.path.join(data_path,'music_meta')\n",
    "    df_music_meta = pd.read_csv(music_meta,\n",
    "                                sep='\\001',\n",
    "                                nrows=nrows,\n",
    "                                names=['item_id','item_name','desc','total_timelen','location','tags'],\n",
    "                                # Pandas只有在整个文件读取完了才能确定字段的dtype（字段的数据类型dType）这会很耗时间\n",
    "                                # 事先指定dtype，则会按照指定的dtype读取数据，从而解决警告：\n",
    "                                # DtypeWarning: Columns (3) have mixed types. Specify dtype option on import or set low_memory=False.\n",
    "                                dtype={'item_id':int,'item_name':str,'desc':str,'total_timelen':str,'tags':str})\n",
    "    df_music_meta = df_music_meta.fillna('-')\n",
    "    del df_music_meta['desc']\n",
    "    return df_music_meta"
   ]
  },
  {
   "cell_type": "code",
   "execution_count": 15,
   "metadata": {},
   "outputs": [],
   "source": [
    "import pandas as pd\n",
    "import math"
   ]
  },
  {
   "cell_type": "code",
   "execution_count": 16,
   "metadata": {},
   "outputs": [],
   "source": [
    "a = 0.6\n",
    "user_id = '010af058c9e6aa1109de610cae30fdf8'\n",
    "# 以前听什么歌：\n",
    "user_watch = user_watch()\n",
    "music_df = music_data()"
   ]
  },
  {
   "cell_type": "code",
   "execution_count": 17,
   "metadata": {},
   "outputs": [],
   "source": [
    "df = user_watch.merge(music_df, how='inner', on='item_id')"
   ]
  },
  {
   "cell_type": "code",
   "execution_count": 18,
   "metadata": {},
   "outputs": [],
   "source": [
    "del user_watch\n",
    "del music_df"
   ]
  },
  {
   "cell_type": "code",
   "execution_count": 19,
   "metadata": {},
   "outputs": [
    {
     "data": {
      "text/plain": [
       "0         00213d17d2eba917e859d882aa89ee8e\n",
       "1         01d4ad980a492f39f2272dbc36ec9698\n",
       "2         00e16789fa95549730b666911908f540\n",
       "3         01359a19943d444cc75164d5133c3a65\n",
       "4         01359a19943d444cc75164d5133c3a65\n",
       "                        ...               \n",
       "254867    001d99140cf239fa55af2648694df121\n",
       "254868    01a248e789dfc43983c7ad2e81619137\n",
       "254869    00acd41ad6323b1cd50fcf39d1fc59e7\n",
       "254870    01b2d4ac5e98740aa45001b88448f1d2\n",
       "254871    019a03ed840d7356d19e233408ccec8c\n",
       "Name: user_id, Length: 254872, dtype: object"
      ]
     },
     "execution_count": 19,
     "metadata": {},
     "output_type": "execute_result"
    }
   ],
   "source": [
    "df['user_id']"
   ]
  },
  {
   "cell_type": "code",
   "execution_count": 20,
   "metadata": {},
   "outputs": [],
   "source": [
    "df2 = df.loc[df['user_id'] == user_id, ['item_name']]"
   ]
  },
  {
   "cell_type": "code",
   "execution_count": 21,
   "metadata": {},
   "outputs": [
    {
     "data": {
      "text/html": [
       "<div>\n",
       "<style scoped>\n",
       "    .dataframe tbody tr th:only-of-type {\n",
       "        vertical-align: middle;\n",
       "    }\n",
       "\n",
       "    .dataframe tbody tr th {\n",
       "        vertical-align: top;\n",
       "    }\n",
       "\n",
       "    .dataframe thead th {\n",
       "        text-align: right;\n",
       "    }\n",
       "</style>\n",
       "<table border=\"1\" class=\"dataframe\">\n",
       "  <thead>\n",
       "    <tr style=\"text-align: right;\">\n",
       "      <th></th>\n",
       "      <th>item_name</th>\n",
       "    </tr>\n",
       "  </thead>\n",
       "  <tbody>\n",
       "    <tr>\n",
       "      <td>13248</td>\n",
       "      <td>汪峰 - 沧浪之歌 短板</td>\n",
       "    </tr>\n",
       "    <tr>\n",
       "      <td>166650</td>\n",
       "      <td>汪峰 - 沧浪之歌 电影《狼图腾》主题曲</td>\n",
       "    </tr>\n",
       "  </tbody>\n",
       "</table>\n",
       "</div>"
      ],
      "text/plain": [
       "                   item_name\n",
       "13248           汪峰 - 沧浪之歌 短板\n",
       "166650  汪峰 - 沧浪之歌 电影《狼图腾》主题曲"
      ]
     },
     "execution_count": 21,
     "metadata": {},
     "output_type": "execute_result"
    }
   ],
   "source": [
    "df2.head()"
   ]
  },
  {
   "cell_type": "code",
   "execution_count": 22,
   "metadata": {},
   "outputs": [
    {
     "data": {
      "text/plain": [
       "2"
      ]
     },
     "execution_count": 22,
     "metadata": {},
     "output_type": "execute_result"
    }
   ],
   "source": [
    "len(df2)"
   ]
  },
  {
   "cell_type": "code",
   "execution_count": 23,
   "metadata": {},
   "outputs": [
    {
     "name": "stdout",
     "output_type": "stream",
     "text": [
      "['汪峰 - 沧浪之歌 短板' '汪峰 - 沧浪之歌 电影《狼图腾》主题曲']\n"
     ]
    }
   ],
   "source": [
    "print(pd.unique(df2['item_name']))"
   ]
  },
  {
   "cell_type": "code",
   "execution_count": null,
   "metadata": {},
   "outputs": [],
   "source": []
  }
 ],
 "metadata": {
  "kernelspec": {
   "display_name": "Python [conda env:Anaconda3]",
   "language": "python",
   "name": "conda-env-Anaconda3-py"
  },
  "language_info": {
   "codemirror_mode": {
    "name": "ipython",
    "version": 3
   },
   "file_extension": ".py",
   "mimetype": "text/x-python",
   "name": "python",
   "nbconvert_exporter": "python",
   "pygments_lexer": "ipython3",
   "version": "3.7.4"
  },
  "pycharm": {
   "stem_cell": {
    "cell_type": "raw",
    "metadata": {
     "collapsed": false
    },
    "source": []
   }
  }
 },
 "nbformat": 4,
 "nbformat_minor": 2
}
